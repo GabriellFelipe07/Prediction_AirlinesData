{
  "nbformat": 4,
  "nbformat_minor": 0,
  "metadata": {
    "colab": {
      "name": "Airlines_Dataset.ipynb",
      "provenance": [],
      "include_colab_link": true
    },
    "kernelspec": {
      "name": "python3",
      "display_name": "Python 3"
    },
    "language_info": {
      "name": "python"
    }
  },
  "cells": [
    {
      "cell_type": "markdown",
      "metadata": {
        "id": "view-in-github",
        "colab_type": "text"
      },
      "source": [
        "<a href=\"https://colab.research.google.com/github/GabriellFelipe07/Prediction_AirlinesData/blob/main/Airlines_Dataset.ipynb\" target=\"_parent\"><img src=\"https://colab.research.google.com/assets/colab-badge.svg\" alt=\"Open In Colab\"/></a>"
      ]
    },
    {
      "cell_type": "markdown",
      "source": [
        "# **Airlines Data**\n",
        "\n",
        "\n",
        "\n",
        "Gabriel Felipe Machado de Oliveira, 2022"
      ],
      "metadata": {
        "id": "BJpcM-EPSJ3y"
      }
    },
    {
      "cell_type": "code",
      "source": [
        "import pandas as pd\n",
        "import seaborn as sns\n",
        "import matplotlib.pyplot as plt\n",
        "import numpy as np"
      ],
      "metadata": {
        "id": "NvnkSEWcbU7i"
      },
      "execution_count": null,
      "outputs": []
    },
    {
      "cell_type": "markdown",
      "source": [
        "# 1. Introdução: apresentação dos dados\n",
        "Os dataset utilizado traz informações sobre características e atrasos - ou não - de linhas aéreas. O objetivo principal do estudo, é a previsão de atrasos baseados nos comportamentos dos departamentos responsáveis pelas viagens.\n",
        "Abaixo, a especificação das váriaveis:\n",
        "- id: ID de cada observação;\n",
        "- Airline: Tipo da linha comercial aérea;\n",
        "- Flight: Modelo da aeronave;\n",
        "- AirportFrom: Localização do aeroporto de saída do voo;\n",
        "- ArportTo: Localização do aeropotro de destino do voo;\n",
        "- DayOfWeek: Dia da semana, sendo 1 = segunda-feira;\n",
        "- Time: Horário do voo;\n",
        "- Lenght: Duração da viagem;\n",
        "- Delay: Se o voo atrasou ou não (1 = Sim, 0 = não).\n"
      ],
      "metadata": {
        "id": "iqA4St03SO76"
      }
    },
    {
      "cell_type": "code",
      "source": [
        "data = pd.read_csv('Airlines.csv')\n",
        "data.shape"
      ],
      "metadata": {
        "colab": {
          "base_uri": "https://localhost:8080/"
        },
        "id": "C-f7qjFoNR9h",
        "outputId": "52075d26-dae0-4508-dc2f-bc163c55fc9c"
      },
      "execution_count": null,
      "outputs": [
        {
          "output_type": "execute_result",
          "data": {
            "text/plain": [
              "(539383, 9)"
            ]
          },
          "metadata": {},
          "execution_count": 11
        }
      ]
    },
    {
      "cell_type": "markdown",
      "source": [
        "Observe que trata-se de 8 variáveis preditoras, 1 variável resposta e 539383 instâncias ou observações."
      ],
      "metadata": {
        "id": "T7GuL6qwbtPd"
      }
    },
    {
      "cell_type": "markdown",
      "source": [
        "# 2. Limpeza e Tratamento dos dados"
      ],
      "metadata": {
        "id": "ndvp0IlSbwkD"
      }
    },
    {
      "cell_type": "markdown",
      "source": [
        "Visualizando os dados:"
      ],
      "metadata": {
        "id": "jqtEUXddctN4"
      }
    },
    {
      "cell_type": "code",
      "source": [
        "data.head()"
      ],
      "metadata": {
        "id": "DrB_kobnctkn",
        "colab": {
          "base_uri": "https://localhost:8080/",
          "height": 206
        },
        "outputId": "0ea64302-1d44-423d-ef88-fa1016711612"
      },
      "execution_count": null,
      "outputs": [
        {
          "output_type": "execute_result",
          "data": {
            "text/plain": [
              "   id Airline  Flight AirportFrom AirportTo  DayOfWeek  Time  Length  Delay\n",
              "0   1      CO     269         SFO       IAH          3    15     205      1\n",
              "1   2      US    1558         PHX       CLT          3    15     222      1\n",
              "2   3      AA    2400         LAX       DFW          3    20     165      1\n",
              "3   4      AA    2466         SFO       DFW          3    20     195      1\n",
              "4   5      AS     108         ANC       SEA          3    30     202      0"
            ],
            "text/html": [
              "\n",
              "  <div id=\"df-49309d5e-60bc-4955-92e7-61485e5faf86\">\n",
              "    <div class=\"colab-df-container\">\n",
              "      <div>\n",
              "<style scoped>\n",
              "    .dataframe tbody tr th:only-of-type {\n",
              "        vertical-align: middle;\n",
              "    }\n",
              "\n",
              "    .dataframe tbody tr th {\n",
              "        vertical-align: top;\n",
              "    }\n",
              "\n",
              "    .dataframe thead th {\n",
              "        text-align: right;\n",
              "    }\n",
              "</style>\n",
              "<table border=\"1\" class=\"dataframe\">\n",
              "  <thead>\n",
              "    <tr style=\"text-align: right;\">\n",
              "      <th></th>\n",
              "      <th>id</th>\n",
              "      <th>Airline</th>\n",
              "      <th>Flight</th>\n",
              "      <th>AirportFrom</th>\n",
              "      <th>AirportTo</th>\n",
              "      <th>DayOfWeek</th>\n",
              "      <th>Time</th>\n",
              "      <th>Length</th>\n",
              "      <th>Delay</th>\n",
              "    </tr>\n",
              "  </thead>\n",
              "  <tbody>\n",
              "    <tr>\n",
              "      <th>0</th>\n",
              "      <td>1</td>\n",
              "      <td>CO</td>\n",
              "      <td>269</td>\n",
              "      <td>SFO</td>\n",
              "      <td>IAH</td>\n",
              "      <td>3</td>\n",
              "      <td>15</td>\n",
              "      <td>205</td>\n",
              "      <td>1</td>\n",
              "    </tr>\n",
              "    <tr>\n",
              "      <th>1</th>\n",
              "      <td>2</td>\n",
              "      <td>US</td>\n",
              "      <td>1558</td>\n",
              "      <td>PHX</td>\n",
              "      <td>CLT</td>\n",
              "      <td>3</td>\n",
              "      <td>15</td>\n",
              "      <td>222</td>\n",
              "      <td>1</td>\n",
              "    </tr>\n",
              "    <tr>\n",
              "      <th>2</th>\n",
              "      <td>3</td>\n",
              "      <td>AA</td>\n",
              "      <td>2400</td>\n",
              "      <td>LAX</td>\n",
              "      <td>DFW</td>\n",
              "      <td>3</td>\n",
              "      <td>20</td>\n",
              "      <td>165</td>\n",
              "      <td>1</td>\n",
              "    </tr>\n",
              "    <tr>\n",
              "      <th>3</th>\n",
              "      <td>4</td>\n",
              "      <td>AA</td>\n",
              "      <td>2466</td>\n",
              "      <td>SFO</td>\n",
              "      <td>DFW</td>\n",
              "      <td>3</td>\n",
              "      <td>20</td>\n",
              "      <td>195</td>\n",
              "      <td>1</td>\n",
              "    </tr>\n",
              "    <tr>\n",
              "      <th>4</th>\n",
              "      <td>5</td>\n",
              "      <td>AS</td>\n",
              "      <td>108</td>\n",
              "      <td>ANC</td>\n",
              "      <td>SEA</td>\n",
              "      <td>3</td>\n",
              "      <td>30</td>\n",
              "      <td>202</td>\n",
              "      <td>0</td>\n",
              "    </tr>\n",
              "  </tbody>\n",
              "</table>\n",
              "</div>\n",
              "      <button class=\"colab-df-convert\" onclick=\"convertToInteractive('df-49309d5e-60bc-4955-92e7-61485e5faf86')\"\n",
              "              title=\"Convert this dataframe to an interactive table.\"\n",
              "              style=\"display:none;\">\n",
              "        \n",
              "  <svg xmlns=\"http://www.w3.org/2000/svg\" height=\"24px\"viewBox=\"0 0 24 24\"\n",
              "       width=\"24px\">\n",
              "    <path d=\"M0 0h24v24H0V0z\" fill=\"none\"/>\n",
              "    <path d=\"M18.56 5.44l.94 2.06.94-2.06 2.06-.94-2.06-.94-.94-2.06-.94 2.06-2.06.94zm-11 1L8.5 8.5l.94-2.06 2.06-.94-2.06-.94L8.5 2.5l-.94 2.06-2.06.94zm10 10l.94 2.06.94-2.06 2.06-.94-2.06-.94-.94-2.06-.94 2.06-2.06.94z\"/><path d=\"M17.41 7.96l-1.37-1.37c-.4-.4-.92-.59-1.43-.59-.52 0-1.04.2-1.43.59L10.3 9.45l-7.72 7.72c-.78.78-.78 2.05 0 2.83L4 21.41c.39.39.9.59 1.41.59.51 0 1.02-.2 1.41-.59l7.78-7.78 2.81-2.81c.8-.78.8-2.07 0-2.86zM5.41 20L4 18.59l7.72-7.72 1.47 1.35L5.41 20z\"/>\n",
              "  </svg>\n",
              "      </button>\n",
              "      \n",
              "  <style>\n",
              "    .colab-df-container {\n",
              "      display:flex;\n",
              "      flex-wrap:wrap;\n",
              "      gap: 12px;\n",
              "    }\n",
              "\n",
              "    .colab-df-convert {\n",
              "      background-color: #E8F0FE;\n",
              "      border: none;\n",
              "      border-radius: 50%;\n",
              "      cursor: pointer;\n",
              "      display: none;\n",
              "      fill: #1967D2;\n",
              "      height: 32px;\n",
              "      padding: 0 0 0 0;\n",
              "      width: 32px;\n",
              "    }\n",
              "\n",
              "    .colab-df-convert:hover {\n",
              "      background-color: #E2EBFA;\n",
              "      box-shadow: 0px 1px 2px rgba(60, 64, 67, 0.3), 0px 1px 3px 1px rgba(60, 64, 67, 0.15);\n",
              "      fill: #174EA6;\n",
              "    }\n",
              "\n",
              "    [theme=dark] .colab-df-convert {\n",
              "      background-color: #3B4455;\n",
              "      fill: #D2E3FC;\n",
              "    }\n",
              "\n",
              "    [theme=dark] .colab-df-convert:hover {\n",
              "      background-color: #434B5C;\n",
              "      box-shadow: 0px 1px 3px 1px rgba(0, 0, 0, 0.15);\n",
              "      filter: drop-shadow(0px 1px 2px rgba(0, 0, 0, 0.3));\n",
              "      fill: #FFFFFF;\n",
              "    }\n",
              "  </style>\n",
              "\n",
              "      <script>\n",
              "        const buttonEl =\n",
              "          document.querySelector('#df-49309d5e-60bc-4955-92e7-61485e5faf86 button.colab-df-convert');\n",
              "        buttonEl.style.display =\n",
              "          google.colab.kernel.accessAllowed ? 'block' : 'none';\n",
              "\n",
              "        async function convertToInteractive(key) {\n",
              "          const element = document.querySelector('#df-49309d5e-60bc-4955-92e7-61485e5faf86');\n",
              "          const dataTable =\n",
              "            await google.colab.kernel.invokeFunction('convertToInteractive',\n",
              "                                                     [key], {});\n",
              "          if (!dataTable) return;\n",
              "\n",
              "          const docLinkHtml = 'Like what you see? Visit the ' +\n",
              "            '<a target=\"_blank\" href=https://colab.research.google.com/notebooks/data_table.ipynb>data table notebook</a>'\n",
              "            + ' to learn more about interactive tables.';\n",
              "          element.innerHTML = '';\n",
              "          dataTable['output_type'] = 'display_data';\n",
              "          await google.colab.output.renderOutput(dataTable, element);\n",
              "          const docLink = document.createElement('div');\n",
              "          docLink.innerHTML = docLinkHtml;\n",
              "          element.appendChild(docLink);\n",
              "        }\n",
              "      </script>\n",
              "    </div>\n",
              "  </div>\n",
              "  "
            ]
          },
          "metadata": {},
          "execution_count": 12
        }
      ]
    },
    {
      "cell_type": "markdown",
      "source": [
        "Obtendo as informações do dataset:"
      ],
      "metadata": {
        "id": "hiqcUreMb0w8"
      }
    },
    {
      "cell_type": "code",
      "source": [
        "data.info()"
      ],
      "metadata": {
        "colab": {
          "base_uri": "https://localhost:8080/"
        },
        "id": "p6llYOWRNXat",
        "outputId": "c9a630f9-9463-42b5-e7a0-15419a51edf0"
      },
      "execution_count": null,
      "outputs": [
        {
          "output_type": "stream",
          "name": "stdout",
          "text": [
            "<class 'pandas.core.frame.DataFrame'>\n",
            "RangeIndex: 539383 entries, 0 to 539382\n",
            "Data columns (total 9 columns):\n",
            " #   Column       Non-Null Count   Dtype \n",
            "---  ------       --------------   ----- \n",
            " 0   id           539383 non-null  int64 \n",
            " 1   Airline      539383 non-null  object\n",
            " 2   Flight       539383 non-null  int64 \n",
            " 3   AirportFrom  539383 non-null  object\n",
            " 4   AirportTo    539383 non-null  object\n",
            " 5   DayOfWeek    539383 non-null  int64 \n",
            " 6   Time         539383 non-null  int64 \n",
            " 7   Length       539383 non-null  int64 \n",
            " 8   Delay        539383 non-null  int64 \n",
            "dtypes: int64(6), object(3)\n",
            "memory usage: 37.0+ MB\n"
          ]
        }
      ]
    },
    {
      "cell_type": "markdown",
      "source": [
        "Verificando a existência de valores NaN no conjunto.\n",
        "\n"
      ],
      "metadata": {
        "id": "7WjheJhaDclp"
      }
    },
    {
      "cell_type": "code",
      "source": [
        "data.isna()"
      ],
      "metadata": {
        "colab": {
          "base_uri": "https://localhost:8080/",
          "height": 424
        },
        "id": "BhDdeAFyf7J1",
        "outputId": "798c80d1-1f43-43b9-950a-88eeb1a608b9"
      },
      "execution_count": null,
      "outputs": [
        {
          "output_type": "execute_result",
          "data": {
            "text/plain": [
              "           id  Airline  Flight  AirportFrom  AirportTo  DayOfWeek   Time  \\\n",
              "0       False    False   False        False      False      False  False   \n",
              "1       False    False   False        False      False      False  False   \n",
              "2       False    False   False        False      False      False  False   \n",
              "3       False    False   False        False      False      False  False   \n",
              "4       False    False   False        False      False      False  False   \n",
              "...       ...      ...     ...          ...        ...        ...    ...   \n",
              "539378  False    False   False        False      False      False  False   \n",
              "539379  False    False   False        False      False      False  False   \n",
              "539380  False    False   False        False      False      False  False   \n",
              "539381  False    False   False        False      False      False  False   \n",
              "539382  False    False   False        False      False      False  False   \n",
              "\n",
              "        Length  Delay  \n",
              "0        False  False  \n",
              "1        False  False  \n",
              "2        False  False  \n",
              "3        False  False  \n",
              "4        False  False  \n",
              "...        ...    ...  \n",
              "539378   False  False  \n",
              "539379   False  False  \n",
              "539380   False  False  \n",
              "539381   False  False  \n",
              "539382   False  False  \n",
              "\n",
              "[539383 rows x 9 columns]"
            ],
            "text/html": [
              "\n",
              "  <div id=\"df-bcce34f6-3e3b-4f54-a13b-04c59ec44b30\">\n",
              "    <div class=\"colab-df-container\">\n",
              "      <div>\n",
              "<style scoped>\n",
              "    .dataframe tbody tr th:only-of-type {\n",
              "        vertical-align: middle;\n",
              "    }\n",
              "\n",
              "    .dataframe tbody tr th {\n",
              "        vertical-align: top;\n",
              "    }\n",
              "\n",
              "    .dataframe thead th {\n",
              "        text-align: right;\n",
              "    }\n",
              "</style>\n",
              "<table border=\"1\" class=\"dataframe\">\n",
              "  <thead>\n",
              "    <tr style=\"text-align: right;\">\n",
              "      <th></th>\n",
              "      <th>id</th>\n",
              "      <th>Airline</th>\n",
              "      <th>Flight</th>\n",
              "      <th>AirportFrom</th>\n",
              "      <th>AirportTo</th>\n",
              "      <th>DayOfWeek</th>\n",
              "      <th>Time</th>\n",
              "      <th>Length</th>\n",
              "      <th>Delay</th>\n",
              "    </tr>\n",
              "  </thead>\n",
              "  <tbody>\n",
              "    <tr>\n",
              "      <th>0</th>\n",
              "      <td>False</td>\n",
              "      <td>False</td>\n",
              "      <td>False</td>\n",
              "      <td>False</td>\n",
              "      <td>False</td>\n",
              "      <td>False</td>\n",
              "      <td>False</td>\n",
              "      <td>False</td>\n",
              "      <td>False</td>\n",
              "    </tr>\n",
              "    <tr>\n",
              "      <th>1</th>\n",
              "      <td>False</td>\n",
              "      <td>False</td>\n",
              "      <td>False</td>\n",
              "      <td>False</td>\n",
              "      <td>False</td>\n",
              "      <td>False</td>\n",
              "      <td>False</td>\n",
              "      <td>False</td>\n",
              "      <td>False</td>\n",
              "    </tr>\n",
              "    <tr>\n",
              "      <th>2</th>\n",
              "      <td>False</td>\n",
              "      <td>False</td>\n",
              "      <td>False</td>\n",
              "      <td>False</td>\n",
              "      <td>False</td>\n",
              "      <td>False</td>\n",
              "      <td>False</td>\n",
              "      <td>False</td>\n",
              "      <td>False</td>\n",
              "    </tr>\n",
              "    <tr>\n",
              "      <th>3</th>\n",
              "      <td>False</td>\n",
              "      <td>False</td>\n",
              "      <td>False</td>\n",
              "      <td>False</td>\n",
              "      <td>False</td>\n",
              "      <td>False</td>\n",
              "      <td>False</td>\n",
              "      <td>False</td>\n",
              "      <td>False</td>\n",
              "    </tr>\n",
              "    <tr>\n",
              "      <th>4</th>\n",
              "      <td>False</td>\n",
              "      <td>False</td>\n",
              "      <td>False</td>\n",
              "      <td>False</td>\n",
              "      <td>False</td>\n",
              "      <td>False</td>\n",
              "      <td>False</td>\n",
              "      <td>False</td>\n",
              "      <td>False</td>\n",
              "    </tr>\n",
              "    <tr>\n",
              "      <th>...</th>\n",
              "      <td>...</td>\n",
              "      <td>...</td>\n",
              "      <td>...</td>\n",
              "      <td>...</td>\n",
              "      <td>...</td>\n",
              "      <td>...</td>\n",
              "      <td>...</td>\n",
              "      <td>...</td>\n",
              "      <td>...</td>\n",
              "    </tr>\n",
              "    <tr>\n",
              "      <th>539378</th>\n",
              "      <td>False</td>\n",
              "      <td>False</td>\n",
              "      <td>False</td>\n",
              "      <td>False</td>\n",
              "      <td>False</td>\n",
              "      <td>False</td>\n",
              "      <td>False</td>\n",
              "      <td>False</td>\n",
              "      <td>False</td>\n",
              "    </tr>\n",
              "    <tr>\n",
              "      <th>539379</th>\n",
              "      <td>False</td>\n",
              "      <td>False</td>\n",
              "      <td>False</td>\n",
              "      <td>False</td>\n",
              "      <td>False</td>\n",
              "      <td>False</td>\n",
              "      <td>False</td>\n",
              "      <td>False</td>\n",
              "      <td>False</td>\n",
              "    </tr>\n",
              "    <tr>\n",
              "      <th>539380</th>\n",
              "      <td>False</td>\n",
              "      <td>False</td>\n",
              "      <td>False</td>\n",
              "      <td>False</td>\n",
              "      <td>False</td>\n",
              "      <td>False</td>\n",
              "      <td>False</td>\n",
              "      <td>False</td>\n",
              "      <td>False</td>\n",
              "    </tr>\n",
              "    <tr>\n",
              "      <th>539381</th>\n",
              "      <td>False</td>\n",
              "      <td>False</td>\n",
              "      <td>False</td>\n",
              "      <td>False</td>\n",
              "      <td>False</td>\n",
              "      <td>False</td>\n",
              "      <td>False</td>\n",
              "      <td>False</td>\n",
              "      <td>False</td>\n",
              "    </tr>\n",
              "    <tr>\n",
              "      <th>539382</th>\n",
              "      <td>False</td>\n",
              "      <td>False</td>\n",
              "      <td>False</td>\n",
              "      <td>False</td>\n",
              "      <td>False</td>\n",
              "      <td>False</td>\n",
              "      <td>False</td>\n",
              "      <td>False</td>\n",
              "      <td>False</td>\n",
              "    </tr>\n",
              "  </tbody>\n",
              "</table>\n",
              "<p>539383 rows × 9 columns</p>\n",
              "</div>\n",
              "      <button class=\"colab-df-convert\" onclick=\"convertToInteractive('df-bcce34f6-3e3b-4f54-a13b-04c59ec44b30')\"\n",
              "              title=\"Convert this dataframe to an interactive table.\"\n",
              "              style=\"display:none;\">\n",
              "        \n",
              "  <svg xmlns=\"http://www.w3.org/2000/svg\" height=\"24px\"viewBox=\"0 0 24 24\"\n",
              "       width=\"24px\">\n",
              "    <path d=\"M0 0h24v24H0V0z\" fill=\"none\"/>\n",
              "    <path d=\"M18.56 5.44l.94 2.06.94-2.06 2.06-.94-2.06-.94-.94-2.06-.94 2.06-2.06.94zm-11 1L8.5 8.5l.94-2.06 2.06-.94-2.06-.94L8.5 2.5l-.94 2.06-2.06.94zm10 10l.94 2.06.94-2.06 2.06-.94-2.06-.94-.94-2.06-.94 2.06-2.06.94z\"/><path d=\"M17.41 7.96l-1.37-1.37c-.4-.4-.92-.59-1.43-.59-.52 0-1.04.2-1.43.59L10.3 9.45l-7.72 7.72c-.78.78-.78 2.05 0 2.83L4 21.41c.39.39.9.59 1.41.59.51 0 1.02-.2 1.41-.59l7.78-7.78 2.81-2.81c.8-.78.8-2.07 0-2.86zM5.41 20L4 18.59l7.72-7.72 1.47 1.35L5.41 20z\"/>\n",
              "  </svg>\n",
              "      </button>\n",
              "      \n",
              "  <style>\n",
              "    .colab-df-container {\n",
              "      display:flex;\n",
              "      flex-wrap:wrap;\n",
              "      gap: 12px;\n",
              "    }\n",
              "\n",
              "    .colab-df-convert {\n",
              "      background-color: #E8F0FE;\n",
              "      border: none;\n",
              "      border-radius: 50%;\n",
              "      cursor: pointer;\n",
              "      display: none;\n",
              "      fill: #1967D2;\n",
              "      height: 32px;\n",
              "      padding: 0 0 0 0;\n",
              "      width: 32px;\n",
              "    }\n",
              "\n",
              "    .colab-df-convert:hover {\n",
              "      background-color: #E2EBFA;\n",
              "      box-shadow: 0px 1px 2px rgba(60, 64, 67, 0.3), 0px 1px 3px 1px rgba(60, 64, 67, 0.15);\n",
              "      fill: #174EA6;\n",
              "    }\n",
              "\n",
              "    [theme=dark] .colab-df-convert {\n",
              "      background-color: #3B4455;\n",
              "      fill: #D2E3FC;\n",
              "    }\n",
              "\n",
              "    [theme=dark] .colab-df-convert:hover {\n",
              "      background-color: #434B5C;\n",
              "      box-shadow: 0px 1px 3px 1px rgba(0, 0, 0, 0.15);\n",
              "      filter: drop-shadow(0px 1px 2px rgba(0, 0, 0, 0.3));\n",
              "      fill: #FFFFFF;\n",
              "    }\n",
              "  </style>\n",
              "\n",
              "      <script>\n",
              "        const buttonEl =\n",
              "          document.querySelector('#df-bcce34f6-3e3b-4f54-a13b-04c59ec44b30 button.colab-df-convert');\n",
              "        buttonEl.style.display =\n",
              "          google.colab.kernel.accessAllowed ? 'block' : 'none';\n",
              "\n",
              "        async function convertToInteractive(key) {\n",
              "          const element = document.querySelector('#df-bcce34f6-3e3b-4f54-a13b-04c59ec44b30');\n",
              "          const dataTable =\n",
              "            await google.colab.kernel.invokeFunction('convertToInteractive',\n",
              "                                                     [key], {});\n",
              "          if (!dataTable) return;\n",
              "\n",
              "          const docLinkHtml = 'Like what you see? Visit the ' +\n",
              "            '<a target=\"_blank\" href=https://colab.research.google.com/notebooks/data_table.ipynb>data table notebook</a>'\n",
              "            + ' to learn more about interactive tables.';\n",
              "          element.innerHTML = '';\n",
              "          dataTable['output_type'] = 'display_data';\n",
              "          await google.colab.output.renderOutput(dataTable, element);\n",
              "          const docLink = document.createElement('div');\n",
              "          docLink.innerHTML = docLinkHtml;\n",
              "          element.appendChild(docLink);\n",
              "        }\n",
              "      </script>\n",
              "    </div>\n",
              "  </div>\n",
              "  "
            ]
          },
          "metadata": {},
          "execution_count": 14
        }
      ]
    },
    {
      "cell_type": "markdown",
      "source": [
        "Perceba que há variáveis categóricas e nosso objetivo é ter apenas inteiras para a classificação. Observemos quais são as que devem ser tratadas: "
      ],
      "metadata": {
        "id": "iKCTeIXJcIBP"
      }
    },
    {
      "cell_type": "code",
      "source": [
        "data.select_dtypes(include = 'object').columns"
      ],
      "metadata": {
        "colab": {
          "base_uri": "https://localhost:8080/"
        },
        "id": "o_2mq-S1fBsV",
        "outputId": "03a3f19c-47a4-40ed-f9f7-8922a29e378d"
      },
      "execution_count": null,
      "outputs": [
        {
          "output_type": "execute_result",
          "data": {
            "text/plain": [
              "Index(['Airline', 'AirportFrom', 'AirportTo'], dtype='object')"
            ]
          },
          "metadata": {},
          "execution_count": 17
        }
      ]
    },
    {
      "cell_type": "markdown",
      "source": [
        "Temos duas opções: excluir elas do dataset ou rotularmos elas com valores numéricos. Nesse caso, será utilizado a técnica LabelEncoding para codificar as variáveis ao invés de simplesmente excluirmos."
      ],
      "metadata": {
        "id": "AR4owoWMfab1"
      }
    },
    {
      "cell_type": "code",
      "source": [
        "from sklearn import preprocessing"
      ],
      "metadata": {
        "id": "kKLu3YJe1jyv"
      },
      "execution_count": null,
      "outputs": []
    },
    {
      "cell_type": "markdown",
      "source": [
        "### **2.1. Variável \"Airline\"**"
      ],
      "metadata": {
        "id": "Go8GddTrcnU3"
      }
    },
    {
      "cell_type": "code",
      "source": [
        "data['Airline'].value_counts()"
      ],
      "metadata": {
        "colab": {
          "base_uri": "https://localhost:8080/"
        },
        "id": "E8-h6VHKNZHx",
        "outputId": "1a31ae72-f48e-4771-c9de-49acf14af6bd"
      },
      "execution_count": null,
      "outputs": [
        {
          "output_type": "execute_result",
          "data": {
            "text/plain": [
              "WN    94097\n",
              "DL    60940\n",
              "OO    50254\n",
              "AA    45656\n",
              "MQ    36605\n",
              "US    34500\n",
              "XE    31126\n",
              "EV    27983\n",
              "UA    27619\n",
              "CO    21118\n",
              "FL    20827\n",
              "9E    20686\n",
              "B6    18112\n",
              "YV    13725\n",
              "OH    12630\n",
              "AS    11471\n",
              "F9     6456\n",
              "HA     5578\n",
              "Name: Airline, dtype: int64"
            ]
          },
          "metadata": {},
          "execution_count": 19
        }
      ]
    },
    {
      "cell_type": "code",
      "source": [
        "label_encoder1 = preprocessing.LabelEncoder()\n",
        "data['Airline'] = label_encoder1.fit_transform(data['Airline'])\n",
        "\n",
        "data['Airline'].value_counts()                                               "
      ],
      "metadata": {
        "colab": {
          "base_uri": "https://localhost:8080/"
        },
        "id": "XWU1JRLO1h7X",
        "outputId": "d8f2bcc8-7f03-4afe-8ee0-2ef99910f54a"
      },
      "execution_count": null,
      "outputs": [
        {
          "output_type": "execute_result",
          "data": {
            "text/plain": [
              "15    94097\n",
              "5     60940\n",
              "12    50254\n",
              "1     45656\n",
              "10    36605\n",
              "14    34500\n",
              "16    31126\n",
              "6     27983\n",
              "13    27619\n",
              "4     21118\n",
              "8     20827\n",
              "0     20686\n",
              "3     18112\n",
              "17    13725\n",
              "11    12630\n",
              "2     11471\n",
              "7      6456\n",
              "9      5578\n",
              "Name: Airline, dtype: int64"
            ]
          },
          "metadata": {},
          "execution_count": 20
        }
      ]
    },
    {
      "cell_type": "markdown",
      "source": [
        "### **2.2. Variável AirportFrom** "
      ],
      "metadata": {
        "id": "ij422bdA2aYv"
      }
    },
    {
      "cell_type": "code",
      "source": [
        "data['AirportFrom'].value_counts()"
      ],
      "metadata": {
        "colab": {
          "base_uri": "https://localhost:8080/"
        },
        "id": "O7GNdTl8NhtI",
        "outputId": "01a1f3f9-7595-4db8-a8df-92178a9e9c45"
      },
      "execution_count": null,
      "outputs": [
        {
          "output_type": "execute_result",
          "data": {
            "text/plain": [
              "ATL    34449\n",
              "ORD    24822\n",
              "DFW    22154\n",
              "DEN    19843\n",
              "LAX    16657\n",
              "       ...  \n",
              "MMH       16\n",
              "SJT       15\n",
              "GUM       10\n",
              "ADK        9\n",
              "ABR        2\n",
              "Name: AirportFrom, Length: 293, dtype: int64"
            ]
          },
          "metadata": {},
          "execution_count": 21
        }
      ]
    },
    {
      "cell_type": "code",
      "source": [
        "label_encoder2 = preprocessing.LabelEncoder()\n",
        "data['AirportFrom'] = label_encoder2.fit_transform(data['AirportFrom'])\n",
        "\n",
        "data['AirportFrom'].value_counts()"
      ],
      "metadata": {
        "colab": {
          "base_uri": "https://localhost:8080/"
        },
        "id": "9LT6KpFo2jRw",
        "outputId": "9c8b8a4d-4020-42db-f33c-216a8962a52d"
      },
      "execution_count": null,
      "outputs": [
        {
          "output_type": "execute_result",
          "data": {
            "text/plain": [
              "16     34449\n",
              "208    24822\n",
              "80     22154\n",
              "79     19843\n",
              "154    16657\n",
              "       ...  \n",
              "189       16\n",
              "259       15\n",
              "125       10\n",
              "8          9\n",
              "3          2\n",
              "Name: AirportFrom, Length: 293, dtype: int64"
            ]
          },
          "metadata": {},
          "execution_count": 22
        }
      ]
    },
    {
      "cell_type": "markdown",
      "source": [
        "### **2.3. Variável AirportTo** "
      ],
      "metadata": {
        "id": "fOW9vBEC3Cyp"
      }
    },
    {
      "cell_type": "code",
      "source": [
        "data['AirportTo'].value_counts()"
      ],
      "metadata": {
        "colab": {
          "base_uri": "https://localhost:8080/"
        },
        "id": "wIoz6nMC2624",
        "outputId": "23a9af4a-00d7-4dd7-c0a9-85aa729a5595"
      },
      "execution_count": null,
      "outputs": [
        {
          "output_type": "execute_result",
          "data": {
            "text/plain": [
              "ATL    34440\n",
              "ORD    24871\n",
              "DFW    22153\n",
              "DEN    19848\n",
              "LAX    16656\n",
              "       ...  \n",
              "MMH       16\n",
              "SJT       15\n",
              "GUM       10\n",
              "ADK        9\n",
              "ABR        2\n",
              "Name: AirportTo, Length: 293, dtype: int64"
            ]
          },
          "metadata": {},
          "execution_count": 23
        }
      ]
    },
    {
      "cell_type": "code",
      "source": [
        "label_encoder3 = preprocessing.LabelEncoder()\n",
        "data['AirportTo'] = label_encoder3.fit_transform(data['AirportTo'])\n",
        "\n",
        "data['AirportTo'].value_counts()"
      ],
      "metadata": {
        "colab": {
          "base_uri": "https://localhost:8080/"
        },
        "id": "9qaep64J3Kgf",
        "outputId": "94dceda2-09d7-44f7-d9ad-b4023d5f46bf"
      },
      "execution_count": null,
      "outputs": [
        {
          "output_type": "execute_result",
          "data": {
            "text/plain": [
              "16     34440\n",
              "208    24871\n",
              "80     22153\n",
              "79     19848\n",
              "154    16656\n",
              "       ...  \n",
              "189       16\n",
              "259       15\n",
              "125       10\n",
              "8          9\n",
              "3          2\n",
              "Name: AirportTo, Length: 293, dtype: int64"
            ]
          },
          "metadata": {},
          "execution_count": 24
        }
      ]
    },
    {
      "cell_type": "markdown",
      "source": [
        "### **2.4. Variável ID**\n",
        "Perceba que embora a variável ID não seja categórica ela basicamente numera as intâncias, assim, podemos excluí-la do conjunto."
      ],
      "metadata": {
        "id": "4IKmjxp45ILY"
      }
    },
    {
      "cell_type": "code",
      "source": [
        "data = data.drop(columns=['id'])"
      ],
      "metadata": {
        "id": "Y0IiZkTp5eZB"
      },
      "execution_count": null,
      "outputs": []
    },
    {
      "cell_type": "markdown",
      "source": [
        "### **2.4. Considerações e observações sobre os tratamentos**"
      ],
      "metadata": {
        "id": "_TvTQowq3bao"
      }
    },
    {
      "cell_type": "markdown",
      "source": [
        "Observemos como ficou o nosso conjunto:"
      ],
      "metadata": {
        "id": "eJRHnD0m3klX"
      }
    },
    {
      "cell_type": "code",
      "source": [
        "data.head()"
      ],
      "metadata": {
        "colab": {
          "base_uri": "https://localhost:8080/",
          "height": 206
        },
        "id": "_zfh8sy53KeQ",
        "outputId": "3704897c-99be-417e-bde3-e4612cbc6ca8"
      },
      "execution_count": null,
      "outputs": [
        {
          "output_type": "execute_result",
          "data": {
            "text/plain": [
              "   Airline  Flight  AirportFrom  AirportTo  DayOfWeek  Time  Length  Delay\n",
              "0        4     269          253        135          3    15     205      1\n",
              "1       14    1558          217         60          3    15     222      1\n",
              "2        1    2400          154         80          3    20     165      1\n",
              "3        1    2466          253         80          3    20     195      1\n",
              "4        2     108           14        252          3    30     202      0"
            ],
            "text/html": [
              "\n",
              "  <div id=\"df-fc28b8fe-12f9-404c-8aca-9d530653c65b\">\n",
              "    <div class=\"colab-df-container\">\n",
              "      <div>\n",
              "<style scoped>\n",
              "    .dataframe tbody tr th:only-of-type {\n",
              "        vertical-align: middle;\n",
              "    }\n",
              "\n",
              "    .dataframe tbody tr th {\n",
              "        vertical-align: top;\n",
              "    }\n",
              "\n",
              "    .dataframe thead th {\n",
              "        text-align: right;\n",
              "    }\n",
              "</style>\n",
              "<table border=\"1\" class=\"dataframe\">\n",
              "  <thead>\n",
              "    <tr style=\"text-align: right;\">\n",
              "      <th></th>\n",
              "      <th>Airline</th>\n",
              "      <th>Flight</th>\n",
              "      <th>AirportFrom</th>\n",
              "      <th>AirportTo</th>\n",
              "      <th>DayOfWeek</th>\n",
              "      <th>Time</th>\n",
              "      <th>Length</th>\n",
              "      <th>Delay</th>\n",
              "    </tr>\n",
              "  </thead>\n",
              "  <tbody>\n",
              "    <tr>\n",
              "      <th>0</th>\n",
              "      <td>4</td>\n",
              "      <td>269</td>\n",
              "      <td>253</td>\n",
              "      <td>135</td>\n",
              "      <td>3</td>\n",
              "      <td>15</td>\n",
              "      <td>205</td>\n",
              "      <td>1</td>\n",
              "    </tr>\n",
              "    <tr>\n",
              "      <th>1</th>\n",
              "      <td>14</td>\n",
              "      <td>1558</td>\n",
              "      <td>217</td>\n",
              "      <td>60</td>\n",
              "      <td>3</td>\n",
              "      <td>15</td>\n",
              "      <td>222</td>\n",
              "      <td>1</td>\n",
              "    </tr>\n",
              "    <tr>\n",
              "      <th>2</th>\n",
              "      <td>1</td>\n",
              "      <td>2400</td>\n",
              "      <td>154</td>\n",
              "      <td>80</td>\n",
              "      <td>3</td>\n",
              "      <td>20</td>\n",
              "      <td>165</td>\n",
              "      <td>1</td>\n",
              "    </tr>\n",
              "    <tr>\n",
              "      <th>3</th>\n",
              "      <td>1</td>\n",
              "      <td>2466</td>\n",
              "      <td>253</td>\n",
              "      <td>80</td>\n",
              "      <td>3</td>\n",
              "      <td>20</td>\n",
              "      <td>195</td>\n",
              "      <td>1</td>\n",
              "    </tr>\n",
              "    <tr>\n",
              "      <th>4</th>\n",
              "      <td>2</td>\n",
              "      <td>108</td>\n",
              "      <td>14</td>\n",
              "      <td>252</td>\n",
              "      <td>3</td>\n",
              "      <td>30</td>\n",
              "      <td>202</td>\n",
              "      <td>0</td>\n",
              "    </tr>\n",
              "  </tbody>\n",
              "</table>\n",
              "</div>\n",
              "      <button class=\"colab-df-convert\" onclick=\"convertToInteractive('df-fc28b8fe-12f9-404c-8aca-9d530653c65b')\"\n",
              "              title=\"Convert this dataframe to an interactive table.\"\n",
              "              style=\"display:none;\">\n",
              "        \n",
              "  <svg xmlns=\"http://www.w3.org/2000/svg\" height=\"24px\"viewBox=\"0 0 24 24\"\n",
              "       width=\"24px\">\n",
              "    <path d=\"M0 0h24v24H0V0z\" fill=\"none\"/>\n",
              "    <path d=\"M18.56 5.44l.94 2.06.94-2.06 2.06-.94-2.06-.94-.94-2.06-.94 2.06-2.06.94zm-11 1L8.5 8.5l.94-2.06 2.06-.94-2.06-.94L8.5 2.5l-.94 2.06-2.06.94zm10 10l.94 2.06.94-2.06 2.06-.94-2.06-.94-.94-2.06-.94 2.06-2.06.94z\"/><path d=\"M17.41 7.96l-1.37-1.37c-.4-.4-.92-.59-1.43-.59-.52 0-1.04.2-1.43.59L10.3 9.45l-7.72 7.72c-.78.78-.78 2.05 0 2.83L4 21.41c.39.39.9.59 1.41.59.51 0 1.02-.2 1.41-.59l7.78-7.78 2.81-2.81c.8-.78.8-2.07 0-2.86zM5.41 20L4 18.59l7.72-7.72 1.47 1.35L5.41 20z\"/>\n",
              "  </svg>\n",
              "      </button>\n",
              "      \n",
              "  <style>\n",
              "    .colab-df-container {\n",
              "      display:flex;\n",
              "      flex-wrap:wrap;\n",
              "      gap: 12px;\n",
              "    }\n",
              "\n",
              "    .colab-df-convert {\n",
              "      background-color: #E8F0FE;\n",
              "      border: none;\n",
              "      border-radius: 50%;\n",
              "      cursor: pointer;\n",
              "      display: none;\n",
              "      fill: #1967D2;\n",
              "      height: 32px;\n",
              "      padding: 0 0 0 0;\n",
              "      width: 32px;\n",
              "    }\n",
              "\n",
              "    .colab-df-convert:hover {\n",
              "      background-color: #E2EBFA;\n",
              "      box-shadow: 0px 1px 2px rgba(60, 64, 67, 0.3), 0px 1px 3px 1px rgba(60, 64, 67, 0.15);\n",
              "      fill: #174EA6;\n",
              "    }\n",
              "\n",
              "    [theme=dark] .colab-df-convert {\n",
              "      background-color: #3B4455;\n",
              "      fill: #D2E3FC;\n",
              "    }\n",
              "\n",
              "    [theme=dark] .colab-df-convert:hover {\n",
              "      background-color: #434B5C;\n",
              "      box-shadow: 0px 1px 3px 1px rgba(0, 0, 0, 0.15);\n",
              "      filter: drop-shadow(0px 1px 2px rgba(0, 0, 0, 0.3));\n",
              "      fill: #FFFFFF;\n",
              "    }\n",
              "  </style>\n",
              "\n",
              "      <script>\n",
              "        const buttonEl =\n",
              "          document.querySelector('#df-fc28b8fe-12f9-404c-8aca-9d530653c65b button.colab-df-convert');\n",
              "        buttonEl.style.display =\n",
              "          google.colab.kernel.accessAllowed ? 'block' : 'none';\n",
              "\n",
              "        async function convertToInteractive(key) {\n",
              "          const element = document.querySelector('#df-fc28b8fe-12f9-404c-8aca-9d530653c65b');\n",
              "          const dataTable =\n",
              "            await google.colab.kernel.invokeFunction('convertToInteractive',\n",
              "                                                     [key], {});\n",
              "          if (!dataTable) return;\n",
              "\n",
              "          const docLinkHtml = 'Like what you see? Visit the ' +\n",
              "            '<a target=\"_blank\" href=https://colab.research.google.com/notebooks/data_table.ipynb>data table notebook</a>'\n",
              "            + ' to learn more about interactive tables.';\n",
              "          element.innerHTML = '';\n",
              "          dataTable['output_type'] = 'display_data';\n",
              "          await google.colab.output.renderOutput(dataTable, element);\n",
              "          const docLink = document.createElement('div');\n",
              "          docLink.innerHTML = docLinkHtml;\n",
              "          element.appendChild(docLink);\n",
              "        }\n",
              "      </script>\n",
              "    </div>\n",
              "  </div>\n",
              "  "
            ]
          },
          "metadata": {},
          "execution_count": 26
        }
      ]
    },
    {
      "cell_type": "markdown",
      "source": [
        "Perceba que agora possuimos apenas variávels numéricas."
      ],
      "metadata": {
        "id": "utIpn5ER3wkI"
      }
    },
    {
      "cell_type": "code",
      "source": [
        "data.info()"
      ],
      "metadata": {
        "colab": {
          "base_uri": "https://localhost:8080/"
        },
        "id": "N013QmF13KYn",
        "outputId": "4ef1d2ba-0712-4c7d-b203-1d63a95c5df0"
      },
      "execution_count": null,
      "outputs": [
        {
          "output_type": "stream",
          "name": "stdout",
          "text": [
            "<class 'pandas.core.frame.DataFrame'>\n",
            "Int64Index: 539383 entries, 0 to 539382\n",
            "Data columns (total 8 columns):\n",
            " #   Column       Non-Null Count   Dtype\n",
            "---  ------       --------------   -----\n",
            " 0   Airline      539383 non-null  int64\n",
            " 1   Flight       539383 non-null  int64\n",
            " 2   AirportFrom  539383 non-null  int64\n",
            " 3   AirportTo    539383 non-null  int64\n",
            " 4   DayOfWeek    539383 non-null  int64\n",
            " 5   Time         539383 non-null  int64\n",
            " 6   Length       539383 non-null  int64\n",
            " 7   Delay        539383 non-null  int64\n",
            "dtypes: int64(8)\n",
            "memory usage: 37.0 MB\n"
          ]
        }
      ]
    },
    {
      "cell_type": "markdown",
      "source": [
        "# 3. Análise Exploratória"
      ],
      "metadata": {
        "id": "BC6pkadz33O4"
      }
    },
    {
      "cell_type": "markdown",
      "source": [
        "Antes de irmos para as predições, devemos analisar nosso conjunto, isto é: analisar todas as variáveis individualmente, observar suas correlações e aplicar técnicas estatísticas que, eventualmente, serão necessárias para termos uma predição mais precisa."
      ],
      "metadata": {
        "id": "b0S4cmYA37-P"
      }
    },
    {
      "cell_type": "code",
      "source": [
        "data.describe()"
      ],
      "metadata": {
        "colab": {
          "base_uri": "https://localhost:8080/",
          "height": 300
        },
        "id": "nAfGGsdp7lwp",
        "outputId": "82182ca2-d2dd-47c2-98c3-d26fba6c68cf"
      },
      "execution_count": null,
      "outputs": [
        {
          "output_type": "execute_result",
          "data": {
            "text/plain": [
              "             Airline         Flight    AirportFrom      AirportTo  \\\n",
              "count  539383.000000  539383.000000  539383.000000  539383.000000   \n",
              "mean        9.334527    2427.928630     144.116322     144.143162   \n",
              "std         5.306368    2067.429837      79.379776      79.353137   \n",
              "min         0.000000       1.000000       0.000000       0.000000   \n",
              "25%         5.000000     712.000000      79.000000      79.000000   \n",
              "50%        10.000000    1809.000000     153.000000     153.000000   \n",
              "75%        15.000000    3745.000000     208.000000     208.000000   \n",
              "max        17.000000    7814.000000     292.000000     292.000000   \n",
              "\n",
              "           DayOfWeek           Time         Length          Delay  \n",
              "count  539383.000000  539383.000000  539383.000000  539383.000000  \n",
              "mean        3.929668     802.728963     132.202007       0.445442  \n",
              "std         1.914664     278.045911      70.117016       0.497015  \n",
              "min         1.000000      10.000000       0.000000       0.000000  \n",
              "25%         2.000000     565.000000      81.000000       0.000000  \n",
              "50%         4.000000     795.000000     115.000000       0.000000  \n",
              "75%         5.000000    1035.000000     162.000000       1.000000  \n",
              "max         7.000000    1439.000000     655.000000       1.000000  "
            ],
            "text/html": [
              "\n",
              "  <div id=\"df-7f034504-e45c-4abb-b1fa-baf726558a5e\">\n",
              "    <div class=\"colab-df-container\">\n",
              "      <div>\n",
              "<style scoped>\n",
              "    .dataframe tbody tr th:only-of-type {\n",
              "        vertical-align: middle;\n",
              "    }\n",
              "\n",
              "    .dataframe tbody tr th {\n",
              "        vertical-align: top;\n",
              "    }\n",
              "\n",
              "    .dataframe thead th {\n",
              "        text-align: right;\n",
              "    }\n",
              "</style>\n",
              "<table border=\"1\" class=\"dataframe\">\n",
              "  <thead>\n",
              "    <tr style=\"text-align: right;\">\n",
              "      <th></th>\n",
              "      <th>Airline</th>\n",
              "      <th>Flight</th>\n",
              "      <th>AirportFrom</th>\n",
              "      <th>AirportTo</th>\n",
              "      <th>DayOfWeek</th>\n",
              "      <th>Time</th>\n",
              "      <th>Length</th>\n",
              "      <th>Delay</th>\n",
              "    </tr>\n",
              "  </thead>\n",
              "  <tbody>\n",
              "    <tr>\n",
              "      <th>count</th>\n",
              "      <td>539383.000000</td>\n",
              "      <td>539383.000000</td>\n",
              "      <td>539383.000000</td>\n",
              "      <td>539383.000000</td>\n",
              "      <td>539383.000000</td>\n",
              "      <td>539383.000000</td>\n",
              "      <td>539383.000000</td>\n",
              "      <td>539383.000000</td>\n",
              "    </tr>\n",
              "    <tr>\n",
              "      <th>mean</th>\n",
              "      <td>9.334527</td>\n",
              "      <td>2427.928630</td>\n",
              "      <td>144.116322</td>\n",
              "      <td>144.143162</td>\n",
              "      <td>3.929668</td>\n",
              "      <td>802.728963</td>\n",
              "      <td>132.202007</td>\n",
              "      <td>0.445442</td>\n",
              "    </tr>\n",
              "    <tr>\n",
              "      <th>std</th>\n",
              "      <td>5.306368</td>\n",
              "      <td>2067.429837</td>\n",
              "      <td>79.379776</td>\n",
              "      <td>79.353137</td>\n",
              "      <td>1.914664</td>\n",
              "      <td>278.045911</td>\n",
              "      <td>70.117016</td>\n",
              "      <td>0.497015</td>\n",
              "    </tr>\n",
              "    <tr>\n",
              "      <th>min</th>\n",
              "      <td>0.000000</td>\n",
              "      <td>1.000000</td>\n",
              "      <td>0.000000</td>\n",
              "      <td>0.000000</td>\n",
              "      <td>1.000000</td>\n",
              "      <td>10.000000</td>\n",
              "      <td>0.000000</td>\n",
              "      <td>0.000000</td>\n",
              "    </tr>\n",
              "    <tr>\n",
              "      <th>25%</th>\n",
              "      <td>5.000000</td>\n",
              "      <td>712.000000</td>\n",
              "      <td>79.000000</td>\n",
              "      <td>79.000000</td>\n",
              "      <td>2.000000</td>\n",
              "      <td>565.000000</td>\n",
              "      <td>81.000000</td>\n",
              "      <td>0.000000</td>\n",
              "    </tr>\n",
              "    <tr>\n",
              "      <th>50%</th>\n",
              "      <td>10.000000</td>\n",
              "      <td>1809.000000</td>\n",
              "      <td>153.000000</td>\n",
              "      <td>153.000000</td>\n",
              "      <td>4.000000</td>\n",
              "      <td>795.000000</td>\n",
              "      <td>115.000000</td>\n",
              "      <td>0.000000</td>\n",
              "    </tr>\n",
              "    <tr>\n",
              "      <th>75%</th>\n",
              "      <td>15.000000</td>\n",
              "      <td>3745.000000</td>\n",
              "      <td>208.000000</td>\n",
              "      <td>208.000000</td>\n",
              "      <td>5.000000</td>\n",
              "      <td>1035.000000</td>\n",
              "      <td>162.000000</td>\n",
              "      <td>1.000000</td>\n",
              "    </tr>\n",
              "    <tr>\n",
              "      <th>max</th>\n",
              "      <td>17.000000</td>\n",
              "      <td>7814.000000</td>\n",
              "      <td>292.000000</td>\n",
              "      <td>292.000000</td>\n",
              "      <td>7.000000</td>\n",
              "      <td>1439.000000</td>\n",
              "      <td>655.000000</td>\n",
              "      <td>1.000000</td>\n",
              "    </tr>\n",
              "  </tbody>\n",
              "</table>\n",
              "</div>\n",
              "      <button class=\"colab-df-convert\" onclick=\"convertToInteractive('df-7f034504-e45c-4abb-b1fa-baf726558a5e')\"\n",
              "              title=\"Convert this dataframe to an interactive table.\"\n",
              "              style=\"display:none;\">\n",
              "        \n",
              "  <svg xmlns=\"http://www.w3.org/2000/svg\" height=\"24px\"viewBox=\"0 0 24 24\"\n",
              "       width=\"24px\">\n",
              "    <path d=\"M0 0h24v24H0V0z\" fill=\"none\"/>\n",
              "    <path d=\"M18.56 5.44l.94 2.06.94-2.06 2.06-.94-2.06-.94-.94-2.06-.94 2.06-2.06.94zm-11 1L8.5 8.5l.94-2.06 2.06-.94-2.06-.94L8.5 2.5l-.94 2.06-2.06.94zm10 10l.94 2.06.94-2.06 2.06-.94-2.06-.94-.94-2.06-.94 2.06-2.06.94z\"/><path d=\"M17.41 7.96l-1.37-1.37c-.4-.4-.92-.59-1.43-.59-.52 0-1.04.2-1.43.59L10.3 9.45l-7.72 7.72c-.78.78-.78 2.05 0 2.83L4 21.41c.39.39.9.59 1.41.59.51 0 1.02-.2 1.41-.59l7.78-7.78 2.81-2.81c.8-.78.8-2.07 0-2.86zM5.41 20L4 18.59l7.72-7.72 1.47 1.35L5.41 20z\"/>\n",
              "  </svg>\n",
              "      </button>\n",
              "      \n",
              "  <style>\n",
              "    .colab-df-container {\n",
              "      display:flex;\n",
              "      flex-wrap:wrap;\n",
              "      gap: 12px;\n",
              "    }\n",
              "\n",
              "    .colab-df-convert {\n",
              "      background-color: #E8F0FE;\n",
              "      border: none;\n",
              "      border-radius: 50%;\n",
              "      cursor: pointer;\n",
              "      display: none;\n",
              "      fill: #1967D2;\n",
              "      height: 32px;\n",
              "      padding: 0 0 0 0;\n",
              "      width: 32px;\n",
              "    }\n",
              "\n",
              "    .colab-df-convert:hover {\n",
              "      background-color: #E2EBFA;\n",
              "      box-shadow: 0px 1px 2px rgba(60, 64, 67, 0.3), 0px 1px 3px 1px rgba(60, 64, 67, 0.15);\n",
              "      fill: #174EA6;\n",
              "    }\n",
              "\n",
              "    [theme=dark] .colab-df-convert {\n",
              "      background-color: #3B4455;\n",
              "      fill: #D2E3FC;\n",
              "    }\n",
              "\n",
              "    [theme=dark] .colab-df-convert:hover {\n",
              "      background-color: #434B5C;\n",
              "      box-shadow: 0px 1px 3px 1px rgba(0, 0, 0, 0.15);\n",
              "      filter: drop-shadow(0px 1px 2px rgba(0, 0, 0, 0.3));\n",
              "      fill: #FFFFFF;\n",
              "    }\n",
              "  </style>\n",
              "\n",
              "      <script>\n",
              "        const buttonEl =\n",
              "          document.querySelector('#df-7f034504-e45c-4abb-b1fa-baf726558a5e button.colab-df-convert');\n",
              "        buttonEl.style.display =\n",
              "          google.colab.kernel.accessAllowed ? 'block' : 'none';\n",
              "\n",
              "        async function convertToInteractive(key) {\n",
              "          const element = document.querySelector('#df-7f034504-e45c-4abb-b1fa-baf726558a5e');\n",
              "          const dataTable =\n",
              "            await google.colab.kernel.invokeFunction('convertToInteractive',\n",
              "                                                     [key], {});\n",
              "          if (!dataTable) return;\n",
              "\n",
              "          const docLinkHtml = 'Like what you see? Visit the ' +\n",
              "            '<a target=\"_blank\" href=https://colab.research.google.com/notebooks/data_table.ipynb>data table notebook</a>'\n",
              "            + ' to learn more about interactive tables.';\n",
              "          element.innerHTML = '';\n",
              "          dataTable['output_type'] = 'display_data';\n",
              "          await google.colab.output.renderOutput(dataTable, element);\n",
              "          const docLink = document.createElement('div');\n",
              "          docLink.innerHTML = docLinkHtml;\n",
              "          element.appendChild(docLink);\n",
              "        }\n",
              "      </script>\n",
              "    </div>\n",
              "  </div>\n",
              "  "
            ]
          },
          "metadata": {},
          "execution_count": 28
        }
      ]
    },
    {
      "cell_type": "markdown",
      "source": [
        "### **3.1. Histogramas de Frequências**"
      ],
      "metadata": {
        "id": "Oxp0Uhzp4SQX"
      }
    },
    {
      "cell_type": "code",
      "source": [
        "data.hist(figsize=(10, 10), bins=50, xlabelsize=8, ylabelsize=8)\n",
        "plt.show()"
      ],
      "metadata": {
        "colab": {
          "base_uri": "https://localhost:8080/",
          "height": 607
        },
        "id": "W8nffMF17uhg",
        "outputId": "159b3ab0-a237-485b-96b1-a1c477c0440a"
      },
      "execution_count": null,
      "outputs": [
        {
          "output_type": "display_data",
          "data": {
            "text/plain": [
              "<Figure size 720x720 with 9 Axes>"
            ],
            "image/png": "[encoded data removed]"
          },
          "metadata": {
            "needs_background": "light"
          }
        }
      ]
    },
    {
      "cell_type": "markdown",
      "source": [
        "Dificilmente consiguimos definir alguma distribuição das nossas features, a única que podemos criar uma hipótese confiável é a variável 'Length', poderíamos modelá-la com sendo uma Normal com assimetria à direita."
      ],
      "metadata": {
        "id": "lm4pMJj_C6Mr"
      }
    },
    {
      "cell_type": "code",
      "source": [
        "plt.figure(figsize=(8, 5))\n",
        "sns.distplot(data['Length'], color = 'blue', bins = 100)\n",
        "plt.title('Distribuição de Frequências - \"Length\"', fontsize = 15)\n",
        "plt.show()"
      ],
      "metadata": {
        "colab": {
          "base_uri": "https://localhost:8080/",
          "height": 408
        },
        "id": "lVwqQhJiP0ED",
        "outputId": "a1651fa5-a706-4fc1-bf73-55926acb1aa6"
      },
      "execution_count": null,
      "outputs": [
        {
          "output_type": "stream",
          "name": "stderr",
          "text": [
            "/usr/local/lib/python3.7/dist-packages/seaborn/distributions.py:2619: FutureWarning: `distplot` is a deprecated function and will be removed in a future version. Please adapt your code to use either `displot` (a figure-level function with similar flexibility) or `histplot` (an axes-level function for histograms).\n",
            "  warnings.warn(msg, FutureWarning)\n"
          ]
        },
        {
          "output_type": "display_data",
          "data": {
            "text/plain": [
              "<Figure size 576x360 with 1 Axes>"
            ],
            "image/png": "[encoded data removed]"
          },
          "metadata": {
            "needs_background": "light"
          }
        }
      ]
    },
    {
      "cell_type": "code",
      "source": [
        "plt.figure(figsize=(8, 5))\n",
        "sns.distplot(data['Time'], color = 'blue', bins = 100)\n",
        "plt.title('Distribuição de Frequências - \"Time\"', fontsize = 15)\n",
        "plt.show()"
      ],
      "metadata": {
        "colab": {
          "base_uri": "https://localhost:8080/",
          "height": 408
        },
        "id": "RyOryIrEQFO1",
        "outputId": "ea70051a-92dc-4d4e-f42b-978440d0bc96"
      },
      "execution_count": null,
      "outputs": [
        {
          "output_type": "stream",
          "name": "stderr",
          "text": [
            "/usr/local/lib/python3.7/dist-packages/seaborn/distributions.py:2619: FutureWarning: `distplot` is a deprecated function and will be removed in a future version. Please adapt your code to use either `displot` (a figure-level function with similar flexibility) or `histplot` (an axes-level function for histograms).\n",
            "  warnings.warn(msg, FutureWarning)\n"
          ]
        },
        {
          "output_type": "display_data",
          "data": {
            "text/plain": [
              "<Figure size 576x360 with 1 Axes>"
            ],
            "image/png": "[encoded data removed]"
          },
          "metadata": {
            "needs_background": "light"
          }
        }
      ]
    },
    {
      "cell_type": "markdown",
      "source": [
        "Fazer a distribuição para as outras features não faz tanto sentido. Embora sejam numéricas estão mascaradas/codificadas."
      ],
      "metadata": {
        "id": "MytjtrgOEUDq"
      }
    },
    {
      "cell_type": "markdown",
      "source": [
        "### **3.2. Correlações**"
      ],
      "metadata": {
        "id": "-Wd9BmN1F98b"
      }
    },
    {
      "cell_type": "markdown",
      "source": [
        "Agora, focaremos nas correlações entre as features. Abaixo uma tabela de correlações:"
      ],
      "metadata": {
        "id": "mMpT_D8kGHBD"
      }
    },
    {
      "cell_type": "code",
      "source": [
        "data.corr()"
      ],
      "metadata": {
        "colab": {
          "base_uri": "https://localhost:8080/",
          "height": 300
        },
        "id": "k46ucurHEOp0",
        "outputId": "a4029930-13fc-495b-bfa1-e5ac71d15e45"
      },
      "execution_count": null,
      "outputs": [
        {
          "output_type": "execute_result",
          "data": {
            "text/plain": [
              "              Airline    Flight  AirportFrom  AirportTo  DayOfWeek      Time  \\\n",
              "Airline      1.000000  0.095285     0.098237   0.098791  -0.007258  0.004381   \n",
              "Flight       0.095285  1.000000    -0.021802  -0.022072   0.000416 -0.005750   \n",
              "AirportFrom  0.098237 -0.021802     1.000000   0.015139   0.003732 -0.031555   \n",
              "AirportTo    0.098791 -0.022072     0.015139   1.000000   0.003846  0.030599   \n",
              "DayOfWeek   -0.007258  0.000416     0.003732   0.003846   1.000000  0.001273   \n",
              "Time         0.004381 -0.005750    -0.031555   0.030599   0.001273  1.000000   \n",
              "Length      -0.207061 -0.341481     0.049698   0.086982   0.013397 -0.020612   \n",
              "Delay        0.066936 -0.046175     0.018459   0.047990  -0.026199  0.150454   \n",
              "\n",
              "               Length     Delay  \n",
              "Airline     -0.207061  0.066936  \n",
              "Flight      -0.341481 -0.046175  \n",
              "AirportFrom  0.049698  0.018459  \n",
              "AirportTo    0.086982  0.047990  \n",
              "DayOfWeek    0.013397 -0.026199  \n",
              "Time        -0.020612  0.150454  \n",
              "Length       1.000000  0.040489  \n",
              "Delay        0.040489  1.000000  "
            ],
            "text/html": [
              "\n",
              "  <div id=\"df-96ce4def-62f0-4209-b57c-d88697ea98bd\">\n",
              "    <div class=\"colab-df-container\">\n",
              "      <div>\n",
              "<style scoped>\n",
              "    .dataframe tbody tr th:only-of-type {\n",
              "        vertical-align: middle;\n",
              "    }\n",
              "\n",
              "    .dataframe tbody tr th {\n",
              "        vertical-align: top;\n",
              "    }\n",
              "\n",
              "    .dataframe thead th {\n",
              "        text-align: right;\n",
              "    }\n",
              "</style>\n",
              "<table border=\"1\" class=\"dataframe\">\n",
              "  <thead>\n",
              "    <tr style=\"text-align: right;\">\n",
              "      <th></th>\n",
              "      <th>Airline</th>\n",
              "      <th>Flight</th>\n",
              "      <th>AirportFrom</th>\n",
              "      <th>AirportTo</th>\n",
              "      <th>DayOfWeek</th>\n",
              "      <th>Time</th>\n",
              "      <th>Length</th>\n",
              "      <th>Delay</th>\n",
              "    </tr>\n",
              "  </thead>\n",
              "  <tbody>\n",
              "    <tr>\n",
              "      <th>Airline</th>\n",
              "      <td>1.000000</td>\n",
              "      <td>0.095285</td>\n",
              "      <td>0.098237</td>\n",
              "      <td>0.098791</td>\n",
              "      <td>-0.007258</td>\n",
              "      <td>0.004381</td>\n",
              "      <td>-0.207061</td>\n",
              "      <td>0.066936</td>\n",
              "    </tr>\n",
              "    <tr>\n",
              "      <th>Flight</th>\n",
              "      <td>0.095285</td>\n",
              "      <td>1.000000</td>\n",
              "      <td>-0.021802</td>\n",
              "      <td>-0.022072</td>\n",
              "      <td>0.000416</td>\n",
              "      <td>-0.005750</td>\n",
              "      <td>-0.341481</td>\n",
              "      <td>-0.046175</td>\n",
              "    </tr>\n",
              "    <tr>\n",
              "      <th>AirportFrom</th>\n",
              "      <td>0.098237</td>\n",
              "      <td>-0.021802</td>\n",
              "      <td>1.000000</td>\n",
              "      <td>0.015139</td>\n",
              "      <td>0.003732</td>\n",
              "      <td>-0.031555</td>\n",
              "      <td>0.049698</td>\n",
              "      <td>0.018459</td>\n",
              "    </tr>\n",
              "    <tr>\n",
              "      <th>AirportTo</th>\n",
              "      <td>0.098791</td>\n",
              "      <td>-0.022072</td>\n",
              "      <td>0.015139</td>\n",
              "      <td>1.000000</td>\n",
              "      <td>0.003846</td>\n",
              "      <td>0.030599</td>\n",
              "      <td>0.086982</td>\n",
              "      <td>0.047990</td>\n",
              "    </tr>\n",
              "    <tr>\n",
              "      <th>DayOfWeek</th>\n",
              "      <td>-0.007258</td>\n",
              "      <td>0.000416</td>\n",
              "      <td>0.003732</td>\n",
              "      <td>0.003846</td>\n",
              "      <td>1.000000</td>\n",
              "      <td>0.001273</td>\n",
              "      <td>0.013397</td>\n",
              "      <td>-0.026199</td>\n",
              "    </tr>\n",
              "    <tr>\n",
              "      <th>Time</th>\n",
              "      <td>0.004381</td>\n",
              "      <td>-0.005750</td>\n",
              "      <td>-0.031555</td>\n",
              "      <td>0.030599</td>\n",
              "      <td>0.001273</td>\n",
              "      <td>1.000000</td>\n",
              "      <td>-0.020612</td>\n",
              "      <td>0.150454</td>\n",
              "    </tr>\n",
              "    <tr>\n",
              "      <th>Length</th>\n",
              "      <td>-0.207061</td>\n",
              "      <td>-0.341481</td>\n",
              "      <td>0.049698</td>\n",
              "      <td>0.086982</td>\n",
              "      <td>0.013397</td>\n",
              "      <td>-0.020612</td>\n",
              "      <td>1.000000</td>\n",
              "      <td>0.040489</td>\n",
              "    </tr>\n",
              "    <tr>\n",
              "      <th>Delay</th>\n",
              "      <td>0.066936</td>\n",
              "      <td>-0.046175</td>\n",
              "      <td>0.018459</td>\n",
              "      <td>0.047990</td>\n",
              "      <td>-0.026199</td>\n",
              "      <td>0.150454</td>\n",
              "      <td>0.040489</td>\n",
              "      <td>1.000000</td>\n",
              "    </tr>\n",
              "  </tbody>\n",
              "</table>\n",
              "</div>\n",
              "      <button class=\"colab-df-convert\" onclick=\"convertToInteractive('df-96ce4def-62f0-4209-b57c-d88697ea98bd')\"\n",
              "              title=\"Convert this dataframe to an interactive table.\"\n",
              "              style=\"display:none;\">\n",
              "        \n",
              "  <svg xmlns=\"http://www.w3.org/2000/svg\" height=\"24px\"viewBox=\"0 0 24 24\"\n",
              "       width=\"24px\">\n",
              "    <path d=\"M0 0h24v24H0V0z\" fill=\"none\"/>\n",
              "    <path d=\"M18.56 5.44l.94 2.06.94-2.06 2.06-.94-2.06-.94-.94-2.06-.94 2.06-2.06.94zm-11 1L8.5 8.5l.94-2.06 2.06-.94-2.06-.94L8.5 2.5l-.94 2.06-2.06.94zm10 10l.94 2.06.94-2.06 2.06-.94-2.06-.94-.94-2.06-.94 2.06-2.06.94z\"/><path d=\"M17.41 7.96l-1.37-1.37c-.4-.4-.92-.59-1.43-.59-.52 0-1.04.2-1.43.59L10.3 9.45l-7.72 7.72c-.78.78-.78 2.05 0 2.83L4 21.41c.39.39.9.59 1.41.59.51 0 1.02-.2 1.41-.59l7.78-7.78 2.81-2.81c.8-.78.8-2.07 0-2.86zM5.41 20L4 18.59l7.72-7.72 1.47 1.35L5.41 20z\"/>\n",
              "  </svg>\n",
              "      </button>\n",
              "      \n",
              "  <style>\n",
              "    .colab-df-container {\n",
              "      display:flex;\n",
              "      flex-wrap:wrap;\n",
              "      gap: 12px;\n",
              "    }\n",
              "\n",
              "    .colab-df-convert {\n",
              "      background-color: #E8F0FE;\n",
              "      border: none;\n",
              "      border-radius: 50%;\n",
              "      cursor: pointer;\n",
              "      display: none;\n",
              "      fill: #1967D2;\n",
              "      height: 32px;\n",
              "      padding: 0 0 0 0;\n",
              "      width: 32px;\n",
              "    }\n",
              "\n",
              "    .colab-df-convert:hover {\n",
              "      background-color: #E2EBFA;\n",
              "      box-shadow: 0px 1px 2px rgba(60, 64, 67, 0.3), 0px 1px 3px 1px rgba(60, 64, 67, 0.15);\n",
              "      fill: #174EA6;\n",
              "    }\n",
              "\n",
              "    [theme=dark] .colab-df-convert {\n",
              "      background-color: #3B4455;\n",
              "      fill: #D2E3FC;\n",
              "    }\n",
              "\n",
              "    [theme=dark] .colab-df-convert:hover {\n",
              "      background-color: #434B5C;\n",
              "      box-shadow: 0px 1px 3px 1px rgba(0, 0, 0, 0.15);\n",
              "      filter: drop-shadow(0px 1px 2px rgba(0, 0, 0, 0.3));\n",
              "      fill: #FFFFFF;\n",
              "    }\n",
              "  </style>\n",
              "\n",
              "      <script>\n",
              "        const buttonEl =\n",
              "          document.querySelector('#df-96ce4def-62f0-4209-b57c-d88697ea98bd button.colab-df-convert');\n",
              "        buttonEl.style.display =\n",
              "          google.colab.kernel.accessAllowed ? 'block' : 'none';\n",
              "\n",
              "        async function convertToInteractive(key) {\n",
              "          const element = document.querySelector('#df-96ce4def-62f0-4209-b57c-d88697ea98bd');\n",
              "          const dataTable =\n",
              "            await google.colab.kernel.invokeFunction('convertToInteractive',\n",
              "                                                     [key], {});\n",
              "          if (!dataTable) return;\n",
              "\n",
              "          const docLinkHtml = 'Like what you see? Visit the ' +\n",
              "            '<a target=\"_blank\" href=https://colab.research.google.com/notebooks/data_table.ipynb>data table notebook</a>'\n",
              "            + ' to learn more about interactive tables.';\n",
              "          element.innerHTML = '';\n",
              "          dataTable['output_type'] = 'display_data';\n",
              "          await google.colab.output.renderOutput(dataTable, element);\n",
              "          const docLink = document.createElement('div');\n",
              "          docLink.innerHTML = docLinkHtml;\n",
              "          element.appendChild(docLink);\n",
              "        }\n",
              "      </script>\n",
              "    </div>\n",
              "  </div>\n",
              "  "
            ]
          },
          "metadata": {},
          "execution_count": 32
        }
      ]
    },
    {
      "cell_type": "markdown",
      "source": [
        "Graficamente, podemos gerar uma mapa de calor:"
      ],
      "metadata": {
        "id": "ovNZgruGGUN8"
      }
    },
    {
      "cell_type": "code",
      "source": [
        "plt.figure(figsize = (8,6))\n",
        "sns.heatmap(data.corr(),annot = True, cmap = \"YlGnBu\")\n",
        "plt.title('Mapa de Calor - Correlações', fontsize = 15)\n",
        "plt.show()"
      ],
      "metadata": {
        "colab": {
          "base_uri": "https://localhost:8080/",
          "height": 441
        },
        "id": "oblMykFSGOoT",
        "outputId": "1a413c2e-50ff-4b18-b44a-3e3585ae668e"
      },
      "execution_count": null,
      "outputs": [
        {
          "output_type": "display_data",
          "data": {
            "text/plain": [
              "<Figure size 576x432 with 2 Axes>"
            ],
            "image/png": "[encoded data removed]"
          },
          "metadata": {
            "needs_background": "light"
          }
        }
      ]
    },
    {
      "cell_type": "markdown",
      "source": [
        "Não há altas correlações entre as variáveis, caso contrário terímos que ajustar o dataset: correlações altas entre as variáveis preditores podem afetar negativamente a predição da variável resposta."
      ],
      "metadata": {
        "id": "SFl7ymaKHdH2"
      }
    },
    {
      "cell_type": "markdown",
      "source": [
        "# 4. Pré-Processamento\n",
        "O último passo antes de testarmos os modelo e predizermos é o pré-processamento. A codificação das variáveis categóricas poderia entrar nesse tópico, entretanto, já foi feito no tratamento inicial. Aqui, trataremos de métodos para normalizar ou padronizar os nossos dados."
      ],
      "metadata": {
        "id": "FORTyErnH8Vr"
      }
    },
    {
      "cell_type": "markdown",
      "source": [
        "### **4.1. Dividindo o Dataset entre Teste e Treino**"
      ],
      "metadata": {
        "id": "szEeXlvd_rTa"
      }
    },
    {
      "cell_type": "code",
      "source": [
        "X = data.drop(columns = ['Delay'])\n",
        "y = data['Delay']"
      ],
      "metadata": {
        "id": "b1qa0JAx_-CZ"
      },
      "execution_count": null,
      "outputs": []
    },
    {
      "cell_type": "code",
      "source": [
        "from sklearn.model_selection import train_test_split\n",
        "X_train, X_test, y_train, y_test = train_test_split(X, y)"
      ],
      "metadata": {
        "id": "b8-GsjEA_yAK"
      },
      "execution_count": null,
      "outputs": []
    },
    {
      "cell_type": "markdown",
      "source": [
        "## **4.2. Normalização**"
      ],
      "metadata": {
        "id": "tqq46vkmAK8p"
      }
    },
    {
      "cell_type": "code",
      "source": [
        "from sklearn.preprocessing import StandardScaler"
      ],
      "metadata": {
        "id": "ilPbTJwWGltE"
      },
      "execution_count": null,
      "outputs": []
    },
    {
      "cell_type": "code",
      "source": [
        "scaleX = StandardScaler()"
      ],
      "metadata": {
        "id": "QQOwu8WW_TSJ"
      },
      "execution_count": null,
      "outputs": []
    },
    {
      "cell_type": "code",
      "source": [
        "X_train = scaleX.fit_transform(X_train)\n",
        "X_test = scaleX.fit_transform(X_test)"
      ],
      "metadata": {
        "id": "mhwou50T_Yf4"
      },
      "execution_count": null,
      "outputs": []
    },
    {
      "cell_type": "markdown",
      "source": [
        "Verificando a normalização:"
      ],
      "metadata": {
        "id": "iJxcf6mxAgHB"
      }
    },
    {
      "cell_type": "code",
      "source": [
        "display(X_test)"
      ],
      "metadata": {
        "colab": {
          "base_uri": "https://localhost:8080/",
          "height": 243
        },
        "id": "0M5TOPaeAZvw",
        "outputId": "2fedd2a1-b81f-472e-946d-385e335d59e1"
      },
      "execution_count": null,
      "outputs": [
        {
          "output_type": "display_data",
          "data": {
            "text/plain": [
              "array([[ 0.87970733, -0.71339146,  0.90930336, ...,  1.60320734,\n",
              "         0.06567084, -0.31503246],\n",
              "       [ 1.06807785, -0.23201104, -0.50192424, ...,  0.55792111,\n",
              "        -1.46388357, -1.02827211],\n",
              "       [-1.5691094 , -0.83953633,  0.49349523, ...,  1.08056423,\n",
              "        -0.31221907,  0.75482701],\n",
              "       ...,\n",
              "       [-0.25051577, -1.06959364,  1.22430952, ...,  1.60320734,\n",
              "         1.05178358,  0.69776784],\n",
              "       [-0.81562733, -0.38860467, -1.61074592, ..., -1.01000822,\n",
              "        -0.87005656, -0.55753394],\n",
              "       [ 0.87970733, -0.1387315 ,  0.19108932, ...,  0.55792111,\n",
              "         1.43327244, -0.81430021]])"
            ]
          },
          "metadata": {}
        }
      ]
    },
    {
      "cell_type": "markdown",
      "source": [
        "Perceba que há alguns valores que superam 1, entretanto, grande parte do nosso conjunto varia entre -1 e 1 excluindo o peso de possíveis outliers e outras implicações de escalas distintas."
      ],
      "metadata": {
        "id": "fQUgsWuaApVY"
      }
    },
    {
      "cell_type": "markdown",
      "source": [
        "## 5. Modelos de Predição\n",
        "Enfim, testaremos os principais modelos de classificação."
      ],
      "metadata": {
        "id": "GUVgEbAyBJBx"
      }
    },
    {
      "cell_type": "code",
      "source": [
        "from sklearn.metrics import accuracy_score\n",
        "from sklearn.metrics import mean_squared_error\n",
        "from sklearn.linear_model import LogisticRegression\n",
        "from sklearn.neighbors import KNeighborsClassifier\n",
        "from xgboost import XGBClassifier\n",
        "from sklearn.ensemble import RandomForestClassifier\n",
        "from sklearn.naive_bayes import GaussianNB\n",
        "from sklearn.linear_model import SGDClassifier\n",
        "from sklearn.tree import DecisionTreeClassifier\n",
        "from sklearn.ensemble import AdaBoostClassifier"
      ],
      "metadata": {
        "id": "yOPHCDdrxWsx"
      },
      "execution_count": null,
      "outputs": []
    },
    {
      "cell_type": "code",
      "source": [
        "mse_list = []\n",
        "accuracy_list = []"
      ],
      "metadata": {
        "id": "To8NkmQnCMBv"
      },
      "execution_count": null,
      "outputs": []
    },
    {
      "cell_type": "markdown",
      "source": [
        "### **5.1. Logistic Regression**"
      ],
      "metadata": {
        "id": "0Ndf46i0BgaQ"
      }
    },
    {
      "cell_type": "code",
      "source": [
        "logistic_regression = LogisticRegression() #iniciando o construtor\n",
        "logistic_regression.fit(X_train, y_train) #Treinando com o conjunto de treino\n",
        "y_pred = logistic_regression.predict(X_test) #Predizendo os valores\n",
        "\n",
        "accuracyLR = round(accuracy_score(y_test, y_pred), 4)\n",
        "mseLR = round(mean_squared_error(y_test, y_pred),4)\n",
        "\n",
        "accuracy_list.append(accuracyLR)\n",
        "mse_list.append(mseLR)\n",
        "\n",
        "print('Accuracy: ', accuracyLR)\n",
        "print('MSE:', mseLR)"
      ],
      "metadata": {
        "colab": {
          "base_uri": "https://localhost:8080/"
        },
        "id": "I8wcQMN8BaXV",
        "outputId": "90fd170a-bfdc-40bc-dc5e-d252616a0fe1"
      },
      "execution_count": null,
      "outputs": [
        {
          "output_type": "stream",
          "name": "stdout",
          "text": [
            "Accuracy:  0.5834\n",
            "MSE: 0.4166\n"
          ]
        }
      ]
    },
    {
      "cell_type": "markdown",
      "source": [
        "### **5.2. XGBClassifier**"
      ],
      "metadata": {
        "id": "INswFNA4giWr"
      }
    },
    {
      "cell_type": "code",
      "source": [
        "xgbclassifier = XGBClassifier()\n",
        "xgbclassifier.fit(X_train, y_train)\n",
        "y_pred = xgbclassifier.predict(X_test)\n",
        "\n",
        "accuracyXGB = round(accuracy_score(y_test, y_pred), 4)\n",
        "mseXGB = round(mean_squared_error(y_test, y_pred),4)\n",
        "\n",
        "accuracy_list.append(accuracyXGB)\n",
        "mse_list.append(mseXGB)\n",
        "\n",
        "print('Accuracy: ', accuracyXGB)\n",
        "print('MSE:', mseXGB)"
      ],
      "metadata": {
        "colab": {
          "base_uri": "https://localhost:8080/"
        },
        "id": "B61jwzDWFH9f",
        "outputId": "b2a09921-1460-4dae-f4d6-4d1fa7ad09b2"
      },
      "execution_count": null,
      "outputs": [
        {
          "output_type": "stream",
          "name": "stdout",
          "text": [
            "Accuracy:  0.6477\n",
            "MSE: 0.3523\n"
          ]
        }
      ]
    },
    {
      "cell_type": "markdown",
      "source": [
        "### **5.3. KNeighborsClassifier**"
      ],
      "metadata": {
        "id": "fOHthN5wh481"
      }
    },
    {
      "cell_type": "code",
      "source": [
        "kclassifier = KNeighborsClassifier()\n",
        "kclassifier.fit(X_train, y_train)\n",
        "y_pred = kclassifier.predict(X_test)\n",
        "\n",
        "accuracyknn = round(accuracy_score(y_test, y_pred), 4)\n",
        "mseknn = round(mean_squared_error(y_test, y_pred),4)\n",
        "\n",
        "accuracy_list.append(accuracyknn)\n",
        "mse_list.append(mseknn)\n",
        "\n",
        "print('Accuracy: ', accuracyknn)\n",
        "print('MSE:', mseknn)"
      ],
      "metadata": {
        "colab": {
          "base_uri": "https://localhost:8080/"
        },
        "id": "9_y9B0uQh0ZD",
        "outputId": "487ef1a7-f88d-400e-bd14-1bdb4873adcd"
      },
      "execution_count": null,
      "outputs": [
        {
          "output_type": "stream",
          "name": "stdout",
          "text": [
            "Accuracy:  0.6155\n",
            "MSE: 0.3845\n"
          ]
        }
      ]
    },
    {
      "cell_type": "markdown",
      "source": [
        "### **5.4. RandomForestClassifier**"
      ],
      "metadata": {
        "id": "AP6c4tIdjLR6"
      }
    },
    {
      "cell_type": "code",
      "source": [
        "randomforest = RandomForestClassifier()\n",
        "randomforest.fit(X_train, y_train)\n",
        "y_pred = randomforest.predict(X_test)\n",
        "\n",
        "accuracyrandom = round(accuracy_score(y_test, y_pred), 4)\n",
        "mserandom = round(mean_squared_error(y_test, y_pred),4)\n",
        "\n",
        "accuracy_list.append(accuracyrandom)\n",
        "mse_list.append(mserandom)\n",
        "\n",
        "print('Accuracy: ', accuracyrandom)\n",
        "print('MSE:', mserandom)"
      ],
      "metadata": {
        "colab": {
          "base_uri": "https://localhost:8080/"
        },
        "id": "Jbs6MkK5jIcj",
        "outputId": "63436e79-9f66-45c9-f241-eda1727545f2"
      },
      "execution_count": null,
      "outputs": [
        {
          "output_type": "stream",
          "name": "stdout",
          "text": [
            "Accuracy:  0.6202\n",
            "MSE: 0.3798\n"
          ]
        }
      ]
    },
    {
      "cell_type": "markdown",
      "source": [
        "### **5.5. GaussianNB**"
      ],
      "metadata": {
        "id": "W7F7QYLij4YC"
      }
    },
    {
      "cell_type": "code",
      "source": [
        "gaussian = GaussianNB()\n",
        "gaussian.fit(X_train, y_train)\n",
        "y_pred = gaussian.predict(X_test)\n",
        "\n",
        "accuracygaussian = round(accuracy_score(y_test, y_pred), 4)\n",
        "msegaussian = round(mean_squared_error(y_test, y_pred),4)\n",
        "\n",
        "accuracy_list.append(accuracygaussian)\n",
        "mse_list.append(msegaussian)\n",
        "\n",
        "print('Accuracy: ', accuracygaussian)\n",
        "print('MSE:', msegaussian)"
      ],
      "metadata": {
        "colab": {
          "base_uri": "https://localhost:8080/"
        },
        "id": "tx-qykjLjqBM",
        "outputId": "a18e4da6-b8c4-427c-f097-3a6a69d1de84"
      },
      "execution_count": null,
      "outputs": [
        {
          "output_type": "stream",
          "name": "stdout",
          "text": [
            "Accuracy:  0.5872\n",
            "MSE: 0.4128\n"
          ]
        }
      ]
    },
    {
      "cell_type": "markdown",
      "source": [
        "### **5.6. SGDClassifier**"
      ],
      "metadata": {
        "id": "ygWPj_CmkVN5"
      }
    },
    {
      "cell_type": "code",
      "source": [
        "sgdc = SGDClassifier()\n",
        "sgdc.fit(X_train, y_train)\n",
        "y_pred = sgdc.predict(X_test)\n",
        "\n",
        "accuracySGD = round(accuracy_score(y_test, y_pred), 4)\n",
        "mseSGD = round(mean_squared_error(y_test, y_pred),4)\n",
        "\n",
        "accuracy_list.append(accuracySGD)\n",
        "mse_list.append(mseSGD)\n",
        "\n",
        "print('Accuracy: ', accuracySGD)\n",
        "print('MSE:', mseSGD)"
      ],
      "metadata": {
        "colab": {
          "base_uri": "https://localhost:8080/"
        },
        "id": "dsVcbnUHkQ2f",
        "outputId": "1f2685b2-8336-4ba2-a27c-4ce7954430ca"
      },
      "execution_count": null,
      "outputs": [
        {
          "output_type": "stream",
          "name": "stdout",
          "text": [
            "Accuracy:  0.5817\n",
            "MSE: 0.4183\n"
          ]
        }
      ]
    },
    {
      "cell_type": "markdown",
      "source": [
        "### **5.7. DecisionTreeClassifier**"
      ],
      "metadata": {
        "id": "vI95TT9Kk0Cp"
      }
    },
    {
      "cell_type": "code",
      "source": [
        "dectree = DecisionTreeClassifier()\n",
        "dectree.fit(X_train, y_train)\n",
        "y_pred = dectree.predict(X_test)\n",
        "\n",
        "accuracydectree = round(accuracy_score(y_test, y_pred), 4)\n",
        "msedectree = round(mean_squared_error(y_test, y_pred),4)\n",
        "\n",
        "accuracy_list.append(accuracydectree)\n",
        "mse_list.append(msedectree)\n",
        "\n",
        "print('Accuracy: ', accuracydectree)\n",
        "print('MSE:', msedectree)"
      ],
      "metadata": {
        "colab": {
          "base_uri": "https://localhost:8080/"
        },
        "id": "pJIDfCHfkuQV",
        "outputId": "09e193db-b036-43a5-f168-2661451686e4"
      },
      "execution_count": null,
      "outputs": [
        {
          "output_type": "stream",
          "name": "stdout",
          "text": [
            "Accuracy:  0.6082\n",
            "MSE: 0.3918\n"
          ]
        }
      ]
    },
    {
      "cell_type": "markdown",
      "source": [
        "### **5.8. Adaboost**\n",
        "\n"
      ],
      "metadata": {
        "id": "1YsMfJmdlk_w"
      }
    },
    {
      "cell_type": "code",
      "source": [
        "ada = AdaBoostClassifier(n_estimators=100)\n",
        "ada.fit(X_train, y_train)\n",
        "y_pred = ada.predict(X_test)\n",
        "\n",
        "accuracyada = round(accuracy_score(y_test, y_pred), 4)\n",
        "mseada = round(mean_squared_error(y_test, y_pred),4)\n",
        "\n",
        "accuracy_list.append(accuracyada)\n",
        "mse_list.append(mseada)\n",
        "\n",
        "print('Accuracy: ', accuracyada)\n",
        "print('MSE:', mseada)"
      ],
      "metadata": {
        "colab": {
          "base_uri": "https://localhost:8080/"
        },
        "id": "2tFlmrCaIUia",
        "outputId": "375bf3b4-5174-4fee-d4c2-095831acec29"
      },
      "execution_count": null,
      "outputs": [
        {
          "output_type": "stream",
          "name": "stdout",
          "text": [
            "Accuracy:  0.6437\n",
            "MSE: 0.3563\n"
          ]
        }
      ]
    },
    {
      "cell_type": "markdown",
      "source": [
        "# 6. Sumarização dos Resultados e Conclusão\n",
        "Vamos agora analisar as Acurácias e os valores dos Erros Quadráticos Médios. Para facilitar, criaremos um DataFrame com os resultados de cada modelo:"
      ],
      "metadata": {
        "id": "q9HwTnYjmwdI"
      }
    },
    {
      "cell_type": "code",
      "source": [
        "classificadores = ['Logistic Regression', 'XGBClassifier', 'KNeighborsClassifier', 'RandomForestClassifier', 'GaussianNB', 'SGDClassifier', 'DecisionTreeClassifier', 'AdaBoostClassifier']\n",
        "\n",
        "\n",
        "dic = {'Models': classificadores, 'Accuracy': accuracy_list, 'MSE': mse_list}\n",
        "sum = pd.DataFrame(dic)\n",
        "sum"
      ],
      "metadata": {
        "id": "eXkhtX5VmKL2",
        "colab": {
          "base_uri": "https://localhost:8080/",
          "height": 300
        },
        "outputId": "39da9beb-9d61-41c0-9dea-24fe24e85ae5"
      },
      "execution_count": null,
      "outputs": [
        {
          "output_type": "execute_result",
          "data": {
            "text/plain": [
              "                   Models  Accuracy     MSE\n",
              "0     Logistic Regression    0.5834  0.4166\n",
              "1           XGBClassifier    0.6477  0.3523\n",
              "2    KNeighborsClassifier    0.6155  0.3845\n",
              "3  RandomForestClassifier    0.6202  0.3798\n",
              "4              GaussianNB    0.5872  0.4128\n",
              "5           SGDClassifier    0.5817  0.4183\n",
              "6  DecisionTreeClassifier    0.6082  0.3918\n",
              "7      AdaBoostClassifier    0.6437  0.3563"
            ],
            "text/html": [
              "\n",
              "  <div id=\"df-ef827a3f-d71d-49f0-8a92-5584108ad564\">\n",
              "    <div class=\"colab-df-container\">\n",
              "      <div>\n",
              "<style scoped>\n",
              "    .dataframe tbody tr th:only-of-type {\n",
              "        vertical-align: middle;\n",
              "    }\n",
              "\n",
              "    .dataframe tbody tr th {\n",
              "        vertical-align: top;\n",
              "    }\n",
              "\n",
              "    .dataframe thead th {\n",
              "        text-align: right;\n",
              "    }\n",
              "</style>\n",
              "<table border=\"1\" class=\"dataframe\">\n",
              "  <thead>\n",
              "    <tr style=\"text-align: right;\">\n",
              "      <th></th>\n",
              "      <th>Models</th>\n",
              "      <th>Accuracy</th>\n",
              "      <th>MSE</th>\n",
              "    </tr>\n",
              "  </thead>\n",
              "  <tbody>\n",
              "    <tr>\n",
              "      <th>0</th>\n",
              "      <td>Logistic Regression</td>\n",
              "      <td>0.5834</td>\n",
              "      <td>0.4166</td>\n",
              "    </tr>\n",
              "    <tr>\n",
              "      <th>1</th>\n",
              "      <td>XGBClassifier</td>\n",
              "      <td>0.6477</td>\n",
              "      <td>0.3523</td>\n",
              "    </tr>\n",
              "    <tr>\n",
              "      <th>2</th>\n",
              "      <td>KNeighborsClassifier</td>\n",
              "      <td>0.6155</td>\n",
              "      <td>0.3845</td>\n",
              "    </tr>\n",
              "    <tr>\n",
              "      <th>3</th>\n",
              "      <td>RandomForestClassifier</td>\n",
              "      <td>0.6202</td>\n",
              "      <td>0.3798</td>\n",
              "    </tr>\n",
              "    <tr>\n",
              "      <th>4</th>\n",
              "      <td>GaussianNB</td>\n",
              "      <td>0.5872</td>\n",
              "      <td>0.4128</td>\n",
              "    </tr>\n",
              "    <tr>\n",
              "      <th>5</th>\n",
              "      <td>SGDClassifier</td>\n",
              "      <td>0.5817</td>\n",
              "      <td>0.4183</td>\n",
              "    </tr>\n",
              "    <tr>\n",
              "      <th>6</th>\n",
              "      <td>DecisionTreeClassifier</td>\n",
              "      <td>0.6082</td>\n",
              "      <td>0.3918</td>\n",
              "    </tr>\n",
              "    <tr>\n",
              "      <th>7</th>\n",
              "      <td>AdaBoostClassifier</td>\n",
              "      <td>0.6437</td>\n",
              "      <td>0.3563</td>\n",
              "    </tr>\n",
              "  </tbody>\n",
              "</table>\n",
              "</div>\n",
              "      <button class=\"colab-df-convert\" onclick=\"convertToInteractive('df-ef827a3f-d71d-49f0-8a92-5584108ad564')\"\n",
              "              title=\"Convert this dataframe to an interactive table.\"\n",
              "              style=\"display:none;\">\n",
              "        \n",
              "  <svg xmlns=\"http://www.w3.org/2000/svg\" height=\"24px\"viewBox=\"0 0 24 24\"\n",
              "       width=\"24px\">\n",
              "    <path d=\"M0 0h24v24H0V0z\" fill=\"none\"/>\n",
              "    <path d=\"M18.56 5.44l.94 2.06.94-2.06 2.06-.94-2.06-.94-.94-2.06-.94 2.06-2.06.94zm-11 1L8.5 8.5l.94-2.06 2.06-.94-2.06-.94L8.5 2.5l-.94 2.06-2.06.94zm10 10l.94 2.06.94-2.06 2.06-.94-2.06-.94-.94-2.06-.94 2.06-2.06.94z\"/><path d=\"M17.41 7.96l-1.37-1.37c-.4-.4-.92-.59-1.43-.59-.52 0-1.04.2-1.43.59L10.3 9.45l-7.72 7.72c-.78.78-.78 2.05 0 2.83L4 21.41c.39.39.9.59 1.41.59.51 0 1.02-.2 1.41-.59l7.78-7.78 2.81-2.81c.8-.78.8-2.07 0-2.86zM5.41 20L4 18.59l7.72-7.72 1.47 1.35L5.41 20z\"/>\n",
              "  </svg>\n",
              "      </button>\n",
              "      \n",
              "  <style>\n",
              "    .colab-df-container {\n",
              "      display:flex;\n",
              "      flex-wrap:wrap;\n",
              "      gap: 12px;\n",
              "    }\n",
              "\n",
              "    .colab-df-convert {\n",
              "      background-color: #E8F0FE;\n",
              "      border: none;\n",
              "      border-radius: 50%;\n",
              "      cursor: pointer;\n",
              "      display: none;\n",
              "      fill: #1967D2;\n",
              "      height: 32px;\n",
              "      padding: 0 0 0 0;\n",
              "      width: 32px;\n",
              "    }\n",
              "\n",
              "    .colab-df-convert:hover {\n",
              "      background-color: #E2EBFA;\n",
              "      box-shadow: 0px 1px 2px rgba(60, 64, 67, 0.3), 0px 1px 3px 1px rgba(60, 64, 67, 0.15);\n",
              "      fill: #174EA6;\n",
              "    }\n",
              "\n",
              "    [theme=dark] .colab-df-convert {\n",
              "      background-color: #3B4455;\n",
              "      fill: #D2E3FC;\n",
              "    }\n",
              "\n",
              "    [theme=dark] .colab-df-convert:hover {\n",
              "      background-color: #434B5C;\n",
              "      box-shadow: 0px 1px 3px 1px rgba(0, 0, 0, 0.15);\n",
              "      filter: drop-shadow(0px 1px 2px rgba(0, 0, 0, 0.3));\n",
              "      fill: #FFFFFF;\n",
              "    }\n",
              "  </style>\n",
              "\n",
              "      <script>\n",
              "        const buttonEl =\n",
              "          document.querySelector('#df-ef827a3f-d71d-49f0-8a92-5584108ad564 button.colab-df-convert');\n",
              "        buttonEl.style.display =\n",
              "          google.colab.kernel.accessAllowed ? 'block' : 'none';\n",
              "\n",
              "        async function convertToInteractive(key) {\n",
              "          const element = document.querySelector('#df-ef827a3f-d71d-49f0-8a92-5584108ad564');\n",
              "          const dataTable =\n",
              "            await google.colab.kernel.invokeFunction('convertToInteractive',\n",
              "                                                     [key], {});\n",
              "          if (!dataTable) return;\n",
              "\n",
              "          const docLinkHtml = 'Like what you see? Visit the ' +\n",
              "            '<a target=\"_blank\" href=https://colab.research.google.com/notebooks/data_table.ipynb>data table notebook</a>'\n",
              "            + ' to learn more about interactive tables.';\n",
              "          element.innerHTML = '';\n",
              "          dataTable['output_type'] = 'display_data';\n",
              "          await google.colab.output.renderOutput(dataTable, element);\n",
              "          const docLink = document.createElement('div');\n",
              "          docLink.innerHTML = docLinkHtml;\n",
              "          element.appendChild(docLink);\n",
              "        }\n",
              "      </script>\n",
              "    </div>\n",
              "  </div>\n",
              "  "
            ]
          },
          "metadata": {},
          "execution_count": 53
        }
      ]
    },
    {
      "cell_type": "markdown",
      "source": [
        "Em ordem crescente de acurácia:"
      ],
      "metadata": {
        "id": "4AxsnicPKCTr"
      }
    },
    {
      "cell_type": "code",
      "source": [
        "sum.sort_values(by = 'Accuracy', ascending = False)"
      ],
      "metadata": {
        "colab": {
          "base_uri": "https://localhost:8080/",
          "height": 300
        },
        "id": "CNEPHT1bJ2ta",
        "outputId": "9e4fd4f4-fc80-4f46-bb50-1cadb8198fb4"
      },
      "execution_count": null,
      "outputs": [
        {
          "output_type": "execute_result",
          "data": {
            "text/plain": [
              "                   Models  Accuracy     MSE\n",
              "1           XGBClassifier    0.6477  0.3523\n",
              "7      AdaBoostClassifier    0.6437  0.3563\n",
              "3  RandomForestClassifier    0.6202  0.3798\n",
              "2    KNeighborsClassifier    0.6155  0.3845\n",
              "6  DecisionTreeClassifier    0.6082  0.3918\n",
              "4              GaussianNB    0.5872  0.4128\n",
              "0     Logistic Regression    0.5834  0.4166\n",
              "5           SGDClassifier    0.5817  0.4183"
            ],
            "text/html": [
              "\n",
              "  <div id=\"df-0c390547-b7e7-473b-91b2-62d30a01c352\">\n",
              "    <div class=\"colab-df-container\">\n",
              "      <div>\n",
              "<style scoped>\n",
              "    .dataframe tbody tr th:only-of-type {\n",
              "        vertical-align: middle;\n",
              "    }\n",
              "\n",
              "    .dataframe tbody tr th {\n",
              "        vertical-align: top;\n",
              "    }\n",
              "\n",
              "    .dataframe thead th {\n",
              "        text-align: right;\n",
              "    }\n",
              "</style>\n",
              "<table border=\"1\" class=\"dataframe\">\n",
              "  <thead>\n",
              "    <tr style=\"text-align: right;\">\n",
              "      <th></th>\n",
              "      <th>Models</th>\n",
              "      <th>Accuracy</th>\n",
              "      <th>MSE</th>\n",
              "    </tr>\n",
              "  </thead>\n",
              "  <tbody>\n",
              "    <tr>\n",
              "      <th>1</th>\n",
              "      <td>XGBClassifier</td>\n",
              "      <td>0.6477</td>\n",
              "      <td>0.3523</td>\n",
              "    </tr>\n",
              "    <tr>\n",
              "      <th>7</th>\n",
              "      <td>AdaBoostClassifier</td>\n",
              "      <td>0.6437</td>\n",
              "      <td>0.3563</td>\n",
              "    </tr>\n",
              "    <tr>\n",
              "      <th>3</th>\n",
              "      <td>RandomForestClassifier</td>\n",
              "      <td>0.6202</td>\n",
              "      <td>0.3798</td>\n",
              "    </tr>\n",
              "    <tr>\n",
              "      <th>2</th>\n",
              "      <td>KNeighborsClassifier</td>\n",
              "      <td>0.6155</td>\n",
              "      <td>0.3845</td>\n",
              "    </tr>\n",
              "    <tr>\n",
              "      <th>6</th>\n",
              "      <td>DecisionTreeClassifier</td>\n",
              "      <td>0.6082</td>\n",
              "      <td>0.3918</td>\n",
              "    </tr>\n",
              "    <tr>\n",
              "      <th>4</th>\n",
              "      <td>GaussianNB</td>\n",
              "      <td>0.5872</td>\n",
              "      <td>0.4128</td>\n",
              "    </tr>\n",
              "    <tr>\n",
              "      <th>0</th>\n",
              "      <td>Logistic Regression</td>\n",
              "      <td>0.5834</td>\n",
              "      <td>0.4166</td>\n",
              "    </tr>\n",
              "    <tr>\n",
              "      <th>5</th>\n",
              "      <td>SGDClassifier</td>\n",
              "      <td>0.5817</td>\n",
              "      <td>0.4183</td>\n",
              "    </tr>\n",
              "  </tbody>\n",
              "</table>\n",
              "</div>\n",
              "      <button class=\"colab-df-convert\" onclick=\"convertToInteractive('df-0c390547-b7e7-473b-91b2-62d30a01c352')\"\n",
              "              title=\"Convert this dataframe to an interactive table.\"\n",
              "              style=\"display:none;\">\n",
              "        \n",
              "  <svg xmlns=\"http://www.w3.org/2000/svg\" height=\"24px\"viewBox=\"0 0 24 24\"\n",
              "       width=\"24px\">\n",
              "    <path d=\"M0 0h24v24H0V0z\" fill=\"none\"/>\n",
              "    <path d=\"M18.56 5.44l.94 2.06.94-2.06 2.06-.94-2.06-.94-.94-2.06-.94 2.06-2.06.94zm-11 1L8.5 8.5l.94-2.06 2.06-.94-2.06-.94L8.5 2.5l-.94 2.06-2.06.94zm10 10l.94 2.06.94-2.06 2.06-.94-2.06-.94-.94-2.06-.94 2.06-2.06.94z\"/><path d=\"M17.41 7.96l-1.37-1.37c-.4-.4-.92-.59-1.43-.59-.52 0-1.04.2-1.43.59L10.3 9.45l-7.72 7.72c-.78.78-.78 2.05 0 2.83L4 21.41c.39.39.9.59 1.41.59.51 0 1.02-.2 1.41-.59l7.78-7.78 2.81-2.81c.8-.78.8-2.07 0-2.86zM5.41 20L4 18.59l7.72-7.72 1.47 1.35L5.41 20z\"/>\n",
              "  </svg>\n",
              "      </button>\n",
              "      \n",
              "  <style>\n",
              "    .colab-df-container {\n",
              "      display:flex;\n",
              "      flex-wrap:wrap;\n",
              "      gap: 12px;\n",
              "    }\n",
              "\n",
              "    .colab-df-convert {\n",
              "      background-color: #E8F0FE;\n",
              "      border: none;\n",
              "      border-radius: 50%;\n",
              "      cursor: pointer;\n",
              "      display: none;\n",
              "      fill: #1967D2;\n",
              "      height: 32px;\n",
              "      padding: 0 0 0 0;\n",
              "      width: 32px;\n",
              "    }\n",
              "\n",
              "    .colab-df-convert:hover {\n",
              "      background-color: #E2EBFA;\n",
              "      box-shadow: 0px 1px 2px rgba(60, 64, 67, 0.3), 0px 1px 3px 1px rgba(60, 64, 67, 0.15);\n",
              "      fill: #174EA6;\n",
              "    }\n",
              "\n",
              "    [theme=dark] .colab-df-convert {\n",
              "      background-color: #3B4455;\n",
              "      fill: #D2E3FC;\n",
              "    }\n",
              "\n",
              "    [theme=dark] .colab-df-convert:hover {\n",
              "      background-color: #434B5C;\n",
              "      box-shadow: 0px 1px 3px 1px rgba(0, 0, 0, 0.15);\n",
              "      filter: drop-shadow(0px 1px 2px rgba(0, 0, 0, 0.3));\n",
              "      fill: #FFFFFF;\n",
              "    }\n",
              "  </style>\n",
              "\n",
              "      <script>\n",
              "        const buttonEl =\n",
              "          document.querySelector('#df-0c390547-b7e7-473b-91b2-62d30a01c352 button.colab-df-convert');\n",
              "        buttonEl.style.display =\n",
              "          google.colab.kernel.accessAllowed ? 'block' : 'none';\n",
              "\n",
              "        async function convertToInteractive(key) {\n",
              "          const element = document.querySelector('#df-0c390547-b7e7-473b-91b2-62d30a01c352');\n",
              "          const dataTable =\n",
              "            await google.colab.kernel.invokeFunction('convertToInteractive',\n",
              "                                                     [key], {});\n",
              "          if (!dataTable) return;\n",
              "\n",
              "          const docLinkHtml = 'Like what you see? Visit the ' +\n",
              "            '<a target=\"_blank\" href=https://colab.research.google.com/notebooks/data_table.ipynb>data table notebook</a>'\n",
              "            + ' to learn more about interactive tables.';\n",
              "          element.innerHTML = '';\n",
              "          dataTable['output_type'] = 'display_data';\n",
              "          await google.colab.output.renderOutput(dataTable, element);\n",
              "          const docLink = document.createElement('div');\n",
              "          docLink.innerHTML = docLinkHtml;\n",
              "          element.appendChild(docLink);\n",
              "        }\n",
              "      </script>\n",
              "    </div>\n",
              "  </div>\n",
              "  "
            ]
          },
          "metadata": {},
          "execution_count": 54
        }
      ]
    },
    {
      "cell_type": "markdown",
      "source": [
        "Os três melhores modelos de classificação para a predição da variável \"Delay\" foram: (1) XGBoostClassifier; (2) AdaBoostClassifier; (3) RandomForestClassifier. Perceba que os que três melhores modelos, teoricamente, partem de um princípio do modelo de DecisionTree, entretanto, combinam várias Árvores de Decisão e encontram a melhor combinação para predição.\n",
        "\n",
        "Assim, concluímos que o melhor modelo, no caso, é o XGBoost. Embora a acurácia (0.6477) e o MSE (0.3523) não sejam ótimos, atua positivamente na predição."
      ],
      "metadata": {
        "id": "LcaatQVrKP3o"
      }
    }
  ]
}